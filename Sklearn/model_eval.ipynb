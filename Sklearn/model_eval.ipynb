{
 "cells": [
  {
   "cell_type": "markdown",
   "id": "f410fb13",
   "metadata": {},
   "source": [
    "Day5: Model Evaluation"
   ]
  },
  {
   "cell_type": "markdown",
   "id": "d5cce246",
   "metadata": {},
   "source": [
    "Accuracy → How many predictions are correct overall.\n",
    "\n",
    "Precision → Of the people the model said “sick,” how many are truly sick?\n",
    "\n",
    "Recall → Of the truly sick people, how many did the model actually find?\n",
    "\n",
    "F1-score → A balance between precision and recall.\n",
    "\n",
    "Confusion Matrix → A table that shows where the model was right ✅ or wrong ❌."
   ]
  },
  {
   "cell_type": "code",
   "execution_count": 1,
   "id": "dff6b219",
   "metadata": {},
   "outputs": [
    {
     "name": "stdout",
     "output_type": "stream",
     "text": [
      "Accuracy: 1.0\n",
      "precision:  1.0\n",
      "recall:  1.0\n",
      "f1 score:  1.0\n",
      "Confusion Matrix:\n",
      " [[10  0  0]\n",
      " [ 0  9  0]\n",
      " [ 0  0 11]]\n"
     ]
    }
   ],
   "source": [
    "from sklearn.model_selection import train_test_split\n",
    "from sklearn.datasets import load_iris\n",
    "from sklearn.metrics import accuracy_score, confusion_matrix, precision_score, recall_score, f1_score\n",
    "from sklearn.linear_model import LogisticRegression\n",
    "\n",
    "iris = load_iris()\n",
    "x, y = iris.data, iris.target\n",
    "\n",
    "x_train, x_test, y_train, y_test = train_test_split(x, y, \n",
    "                                test_size=0.2, random_state=42)\n",
    "\n",
    "model = LogisticRegression(max_iter=200)\n",
    "model.fit(x_train, y_train)\n",
    "\n",
    "y_pred = model.predict(x_test)\n",
    "\n",
    "print(\"Accuracy:\", accuracy_score(y_test, y_pred))\n",
    "print(\"precision: \", precision_score(y_test, y_pred, average='macro'))\n",
    "print(\"recall: \", recall_score(y_test, y_pred, average='macro'))\n",
    "print(\"f1 score: \", f1_score(y_test, y_pred, average='macro'))\n",
    "print(\"Confusion Matrix:\\n\", confusion_matrix(y_test, y_pred))"
   ]
  }
 ],
 "metadata": {
  "kernelspec": {
   "display_name": "Python 3",
   "language": "python",
   "name": "python3"
  },
  "language_info": {
   "codemirror_mode": {
    "name": "ipython",
    "version": 3
   },
   "file_extension": ".py",
   "mimetype": "text/x-python",
   "name": "python",
   "nbconvert_exporter": "python",
   "pygments_lexer": "ipython3",
   "version": "3.11.8"
  }
 },
 "nbformat": 4,
 "nbformat_minor": 5
}
