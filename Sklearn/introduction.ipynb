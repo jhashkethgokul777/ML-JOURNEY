{
 "cells": [
  {
   "cell_type": "markdown",
   "id": "975db8bf",
   "metadata": {},
   "source": [
    "Day 1:- Introduction to scikit-learn"
   ]
  },
  {
   "cell_type": "markdown",
   "id": "c2de5a59",
   "metadata": {},
   "source": [
    "Scikit-learn (often imported as sklearn) is one of the most popular machine learning libraries in Python."
   ]
  },
  {
   "cell_type": "markdown",
   "id": "5cf1e0b7",
   "metadata": {},
   "source": [
    "It provides:\n",
    "\n",
    "Built-in datasets for practice (like iris, digits, wine, etc.).\n",
    "\n",
    "Preprocessing tools (scaling, encoding, handling missing values).\n",
    "\n",
    "Machine learning models (regression, classification, clustering).\n",
    "\n",
    "Evaluation methods (accuracy, precision, cross-validation)."
   ]
  },
  {
   "cell_type": "code",
   "execution_count": 9,
   "id": "48ef6d4d",
   "metadata": {},
   "outputs": [],
   "source": [
    "import sklearn"
   ]
  },
  {
   "cell_type": "markdown",
   "id": "a4dc31df",
   "metadata": {},
   "source": [
    "Using built in datasets"
   ]
  },
  {
   "cell_type": "code",
   "execution_count": 10,
   "id": "5002b1b8",
   "metadata": {},
   "outputs": [],
   "source": [
    "from sklearn.datasets import load_iris"
   ]
  },
  {
   "cell_type": "code",
   "execution_count": 11,
   "id": "dbc108cf",
   "metadata": {},
   "outputs": [
    {
     "name": "stdout",
     "output_type": "stream",
     "text": [
      "dict_keys(['data', 'target', 'frame', 'target_names', 'DESCR', 'feature_names', 'filename', 'data_module'])\n",
      "[[5.1 3.5 1.4 0.2]\n",
      " [4.9 3.  1.4 0.2]\n",
      " [4.7 3.2 1.3 0.2]\n",
      " [4.6 3.1 1.5 0.2]\n",
      " [5.  3.6 1.4 0.2]]\n",
      "[0 0 0 0 0]\n",
      "['sepal length (cm)', 'sepal width (cm)', 'petal length (cm)', 'petal width (cm)']\n"
     ]
    }
   ],
   "source": [
    "iris = load_iris()\n",
    "print(iris.keys()) # Shows what's inside the dataset\n",
    "print(iris.data[:5]) # Prints the first 5 rows of data\n",
    "print(iris.target[:5]) #first 5 labels\n",
    "print(iris.feature_names)"
   ]
  },
  {
   "cell_type": "markdown",
   "id": "91af7388",
   "metadata": {},
   "source": [
    "splitting data for training & testing"
   ]
  },
  {
   "cell_type": "code",
   "execution_count": 12,
   "id": "09f286bd",
   "metadata": {},
   "outputs": [
    {
     "name": "stdout",
     "output_type": "stream",
     "text": [
      "(105, 4) (45, 4)\n"
     ]
    }
   ],
   "source": [
    "from sklearn.model_selection import train_test_split\n",
    "\n",
    "x = iris.data\n",
    "y = iris.target\n",
    "x_train, x_test, y_train, y_test = train_test_split(x, y, test_size=0.3,\n",
    "                                                     random_state=42)\n",
    "print(x_train.shape, x_test.shape)"
   ]
  },
  {
   "cell_type": "markdown",
   "id": "d49551aa",
   "metadata": {},
   "source": [
    "Train my first model"
   ]
  },
  {
   "cell_type": "code",
   "execution_count": 13,
   "id": "d872f324",
   "metadata": {},
   "outputs": [
    {
     "name": "stdout",
     "output_type": "stream",
     "text": [
      "Accuaracy: 1.0\n"
     ]
    }
   ],
   "source": [
    "from sklearn.tree import DecisionTreeClassifier\n",
    "from sklearn.metrics import accuracy_score\n",
    "\n",
    "model = DecisionTreeClassifier()\n",
    "model.fit(x_train, y_train)\n",
    "\n",
    "y_pred = model.predict(x_test)\n",
    "\n",
    "acc = accuracy_score(y_test, y_pred)\n",
    "print('Accuaracy:', acc)"
   ]
  }
 ],
 "metadata": {
  "kernelspec": {
   "display_name": "Python 3",
   "language": "python",
   "name": "python3"
  },
  "language_info": {
   "codemirror_mode": {
    "name": "ipython",
    "version": 3
   },
   "file_extension": ".py",
   "mimetype": "text/x-python",
   "name": "python",
   "nbconvert_exporter": "python",
   "pygments_lexer": "ipython3",
   "version": "3.11.8"
  }
 },
 "nbformat": 4,
 "nbformat_minor": 5
}
