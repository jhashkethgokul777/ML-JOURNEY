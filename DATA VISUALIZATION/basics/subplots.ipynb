{
 "cells": [
  {
   "cell_type": "code",
   "execution_count": null,
   "id": "85cb0942",
   "metadata": {},
   "outputs": [],
   "source": [
    "import matplotlib.pyplot as plt"
   ]
  },
  {
   "cell_type": "markdown",
   "id": "bec5ba73",
   "metadata": {},
   "source": [
    "why subplots?\n",
    "subplots lets you show different plots side by side or in a grid layout"
   ]
  },
  {
   "cell_type": "code",
   "execution_count": null,
   "id": "555345ce",
   "metadata": {},
   "outputs": [],
   "source": [
    "x = [1, 2, 3, 4,5]\n",
    "y1 = [1,4,9,16,25]\n",
    "y2 = [25, 30, 15, 10, 5]\n",
    "\n",
    "plt.subplot(1,2,1)\n",
    "plt.plot(x, y1, color='blue')\n",
    "plt.title('Increasing')\n",
    "\n",
    "plt.subplot(1, 2, 2)\n",
    "plt.plot(x, y2, color='red')\n",
    "plt.title(\"Decresing\")\n",
    "\n",
    "plt.tight_layout()\n",
    "plt.show()\n",
    "\n"
   ]
  },
  {
   "cell_type": "markdown",
   "id": "cba3df1c",
   "metadata": {},
   "source": [
    "task"
   ]
  },
  {
   "cell_type": "code",
   "execution_count": null,
   "id": "71df2569",
   "metadata": {},
   "outputs": [],
   "source": [
    "x = [1, 2, 3, 4, 5]\n",
    "\n",
    "y1 = [1,8,27,64,125]\n",
    "y2 = [5, 10, 15, 20, 25]\n",
    "\n",
    "plt.subplot(2, 1, 1)\n",
    "plt.plot(x, y1, color='green')\n",
    "plt.title(\"Cubes\")\n",
    "plt.grid(True)\n",
    "\n",
    "plt.subplot(2, 1, 2)\n",
    "plt.plot(x, y2, color='purple')\n",
    "plt.title(\"Multiples of 5\")\n",
    "plt.grid(True)\n",
    "\n",
    "plt.tight_layout()\n",
    "plt.show()"
   ]
  }
 ],
 "metadata": {
  "kernelspec": {
   "display_name": "Python 3",
   "language": "python",
   "name": "python3"
  },
  "language_info": {
   "codemirror_mode": {
    "name": "ipython",
    "version": 3
   },
   "file_extension": ".py",
   "mimetype": "text/x-python",
   "name": "python",
   "nbconvert_exporter": "python",
   "pygments_lexer": "ipython3",
   "version": "3.11.8"
  }
 },
 "nbformat": 4,
 "nbformat_minor": 5
}
