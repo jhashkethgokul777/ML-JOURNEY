{
 "cells": [
  {
   "cell_type": "markdown",
   "id": "bbc184f7",
   "metadata": {},
   "source": [
    "Step-1: import the data"
   ]
  },
  {
   "cell_type": "code",
   "execution_count": null,
   "id": "f453b9bb",
   "metadata": {},
   "outputs": [],
   "source": [
    "from sklearn.datasets import load_iris\n",
    "iris = load_iris()"
   ]
  },
  {
   "cell_type": "markdown",
   "id": "f19bed63",
   "metadata": {},
   "source": [
    "Step-2: Expore the dataset"
   ]
  },
  {
   "cell_type": "code",
   "execution_count": null,
   "id": "e64a4896",
   "metadata": {},
   "outputs": [],
   "source": [
    "print(iris.keys()) #things inside the dataset\n",
    "print(iris.feature_names) #what kind of measurements we have in the dataset\n",
    "print(iris.data[:5]) #Shows few flowers\n",
    "print(iris.target[:5]) #shows their types"
   ]
  },
  {
   "cell_type": "markdown",
   "id": "f2d82a07",
   "metadata": {},
   "source": [
    "step-3: divide the flowers into train and test group"
   ]
  },
  {
   "cell_type": "code",
   "execution_count": null,
   "id": "15422be7",
   "metadata": {},
   "outputs": [],
   "source": [
    "from sklearn.model_selection import train_test_split\n",
    "x = iris.data\n",
    "y = iris.target\n",
    "\n",
    "x_train, x_test,y_train,  y_test = train_test_split(x, y, test_size=0.2, random_state=42)"
   ]
  },
  {
   "cell_type": "markdown",
   "id": "09fca9a3",
   "metadata": {},
   "source": [
    "step-4: pick the decision tree"
   ]
  },
  {
   "cell_type": "code",
   "execution_count": null,
   "id": "789bbaf9",
   "metadata": {},
   "outputs": [],
   "source": [
    "from sklearn.tree import DecisionTreeClassifier\n",
    "model = DecisionTreeClassifier()"
   ]
  },
  {
   "cell_type": "markdown",
   "id": "a1727e61",
   "metadata": {},
   "source": [
    "Step-5: Teach the tree"
   ]
  },
  {
   "cell_type": "code",
   "execution_count": null,
   "id": "e66e54e7",
   "metadata": {},
   "outputs": [],
   "source": [
    "model.fit(x_train, y_train)"
   ]
  },
  {
   "cell_type": "markdown",
   "id": "0faef2f9",
   "metadata": {},
   "source": [
    "Step-6: Test the tree knowledge"
   ]
  },
  {
   "cell_type": "code",
   "execution_count": null,
   "id": "78685a20",
   "metadata": {},
   "outputs": [],
   "source": [
    "y_pred = model.predict(x_test)"
   ]
  },
  {
   "cell_type": "markdown",
   "id": "c204bdd7",
   "metadata": {},
   "source": [
    "Step-7: Check  the score"
   ]
  },
  {
   "cell_type": "code",
   "execution_count": null,
   "id": "61de43a7",
   "metadata": {},
   "outputs": [],
   "source": [
    "from sklearn.metrics import accuracy_score\n",
    "acc = accuracy_score(y_test, y_pred)\n",
    "print(\"accuracy\", acc)"
   ]
  }
 ],
 "metadata": {
  "kernelspec": {
   "display_name": "Python 3",
   "language": "python",
   "name": "python3"
  },
  "language_info": {
   "codemirror_mode": {
    "name": "ipython",
    "version": 3
   },
   "file_extension": ".py",
   "mimetype": "text/x-python",
   "name": "python",
   "nbconvert_exporter": "python",
   "pygments_lexer": "ipython3",
   "version": "3.11.8"
  }
 },
 "nbformat": 4,
 "nbformat_minor": 5
}
