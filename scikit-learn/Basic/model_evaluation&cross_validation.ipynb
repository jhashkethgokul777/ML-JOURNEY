{
 "cells": [
  {
   "cell_type": "markdown",
   "id": "be22cc8f",
   "metadata": {},
   "source": [
    "What is Model Evaluation?\n",
    "After training a model, we must evaluate how well it performs.\n",
    "* If the model is underfitting or overfitting\n",
    "* Whether we can trust its predictions"
   ]
  },
  {
   "cell_type": "code",
   "execution_count": 17,
   "id": "b572accd",
   "metadata": {},
   "outputs": [],
   "source": [
    "import numpy as np\n",
    "import pandas as pd\n",
    "data = {\n",
    "    'age': [22, 35, np.nan, 29, 41, 33, np.nan, 27],\n",
    "    'income': [50000, 64000, 58000, np.nan, 72000, np.nan, 46000, 51000],\n",
    "    'education': ['bachelors', 'masters', 'bachelors', 'phd', np.nan, 'masters', 'phd', 'bachelors'],\n",
    "    'target': [1, 0, 1, 0, 1,1,1,1]\n",
    "}\n",
    "df = pd.DataFrame(data)\n",
    "x = df.drop('target', axis=1)\n",
    "y = df['target']\n",
    "\n",
    "from sklearn.impute import SimpleImputer\n",
    "from sklearn.preprocessing import OneHotEncoder, StandardScaler\n",
    "from sklearn.compose import ColumnTransformer\n",
    "from sklearn.pipeline import Pipeline\n",
    "\n",
    "numerical_fetures = ['age', 'income']\n",
    "categorical_features = ['education']\n",
    "\n",
    "numerical_transformer = Pipeline(steps=[('imputer', SimpleImputer(strategy='mean')),\n",
    "                                        ('scaler', StandardScaler())])\n",
    "categorical_transformer = Pipeline(steps=[('imputer', SimpleImputer(strategy='most_frequent')),\n",
    "                                          ('encoder', OneHotEncoder(handle_unknown='ignore'))])\n",
    "preprocessor = ColumnTransformer(transformers=[('num', numerical_transformer, numerical_fetures),\n",
    "                                               ('cat', categorical_transformer, categorical_features)])\n",
    "from sklearn.model_selection import train_test_split\n",
    "x_train, x_test, y_train, y_test = train_test_split(x, y, test_size=0.2, random_state=42)\n",
    "\n",
    "from sklearn.linear_model import LogisticRegression\n",
    "logistic_pipeline = Pipeline([('preprocessing', preprocessor),\n",
    "                              ('classifier', LogisticRegression())])\n",
    "logistic_pipeline.fit(x_train, y_train)\n",
    "y_pred_log = logistic_pipeline.predict(x_test)\n"
   ]
  },
  {
   "cell_type": "code",
   "execution_count": 18,
   "id": "93cfe711",
   "metadata": {},
   "outputs": [
    {
     "name": "stdout",
     "output_type": "stream",
     "text": [
      "accuracy: 0.5\n",
      "precision: 0.5\n",
      "recall: 1.0\n",
      "f1_score: 0.6666666666666666\n"
     ]
    }
   ],
   "source": [
    "from sklearn.metrics import accuracy_score, precision_score, recall_score, f1_score\n",
    "\n",
    "print('accuracy:', accuracy_score(y_test, y_pred_log))\n",
    "print('precision:', precision_score(y_test, y_pred_log))\n",
    "print('recall:', recall_score(y_test, y_pred_log))\n",
    "print('f1_score:', f1_score(y_test, y_pred_log))"
   ]
  },
  {
   "cell_type": "markdown",
   "id": "aa6b6857",
   "metadata": {},
   "source": [
    "Cross validation"
   ]
  },
  {
   "cell_type": "code",
   "execution_count": 19,
   "id": "bd5db1de",
   "metadata": {},
   "outputs": [
    {
     "name": "stdout",
     "output_type": "stream",
     "text": [
      "Each cv score: [1.  0.5 0.5 1.  1. ]\n",
      "Average score: 0.8\n"
     ]
    },
    {
     "name": "stderr",
     "output_type": "stream",
     "text": [
      "C:\\Users\\jhask\\AppData\\Roaming\\Python\\Python311\\site-packages\\sklearn\\model_selection\\_split.py:811: UserWarning: The least populated class in y has only 2 members, which is less than n_splits=5.\n",
      "  warnings.warn(\n"
     ]
    }
   ],
   "source": [
    "from sklearn.model_selection import cross_val_score\n",
    "\n",
    "scores = cross_val_score(logistic_pipeline, x, y, cv=5)\n",
    "print('Each cv score:', scores)\n",
    "print('Average score:', scores.mean())"
   ]
  }
 ],
 "metadata": {
  "kernelspec": {
   "display_name": "Python 3",
   "language": "python",
   "name": "python3"
  },
  "language_info": {
   "codemirror_mode": {
    "name": "ipython",
    "version": 3
   },
   "file_extension": ".py",
   "mimetype": "text/x-python",
   "name": "python",
   "nbconvert_exporter": "python",
   "pygments_lexer": "ipython3",
   "version": "3.11.8"
  }
 },
 "nbformat": 4,
 "nbformat_minor": 5
}
