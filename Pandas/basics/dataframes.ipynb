{
 "cells": [
  {
   "cell_type": "code",
   "execution_count": 1,
   "id": "0cb5ecf6",
   "metadata": {},
   "outputs": [],
   "source": [
    "import pandas as pd"
   ]
  },
  {
   "cell_type": "markdown",
   "id": "611aa236",
   "metadata": {},
   "source": [
    "creating a dataframe"
   ]
  },
  {
   "cell_type": "code",
   "execution_count": 2,
   "id": "d8686489",
   "metadata": {},
   "outputs": [
    {
     "data": {
      "text/html": [
       "<div>\n",
       "<style scoped>\n",
       "    .dataframe tbody tr th:only-of-type {\n",
       "        vertical-align: middle;\n",
       "    }\n",
       "\n",
       "    .dataframe tbody tr th {\n",
       "        vertical-align: top;\n",
       "    }\n",
       "\n",
       "    .dataframe thead th {\n",
       "        text-align: right;\n",
       "    }\n",
       "</style>\n",
       "<table border=\"1\" class=\"dataframe\">\n",
       "  <thead>\n",
       "    <tr style=\"text-align: right;\">\n",
       "      <th></th>\n",
       "      <th>name</th>\n",
       "      <th>age</th>\n",
       "      <th>place</th>\n",
       "    </tr>\n",
       "  </thead>\n",
       "  <tbody>\n",
       "    <tr>\n",
       "      <th>0</th>\n",
       "      <td>gokul</td>\n",
       "      <td>17</td>\n",
       "      <td>kadapa</td>\n",
       "    </tr>\n",
       "    <tr>\n",
       "      <th>1</th>\n",
       "      <td>vatsa</td>\n",
       "      <td>16</td>\n",
       "      <td>kurnool</td>\n",
       "    </tr>\n",
       "    <tr>\n",
       "      <th>2</th>\n",
       "      <td>chatrapathi</td>\n",
       "      <td>17</td>\n",
       "      <td>kurnool</td>\n",
       "    </tr>\n",
       "  </tbody>\n",
       "</table>\n",
       "</div>"
      ],
      "text/plain": [
       "          name  age    place\n",
       "0        gokul   17   kadapa\n",
       "1        vatsa   16  kurnool\n",
       "2  chatrapathi   17  kurnool"
      ]
     },
     "execution_count": 2,
     "metadata": {},
     "output_type": "execute_result"
    }
   ],
   "source": [
    "#1. From a dictionary of lists\n",
    "data = {\n",
    "    'name': ['gokul', 'vatsa', 'chatrapathi'],\n",
    "    'age': [17, 16, 17],\n",
    "    'place': ['kadapa', 'kurnool', 'kurnool']\n",
    "}\n",
    "df = pd.DataFrame(data)\n",
    "df"
   ]
  },
  {
   "cell_type": "markdown",
   "id": "72a48702",
   "metadata": {},
   "source": [
    "2. custom row index"
   ]
  },
  {
   "cell_type": "code",
   "execution_count": 4,
   "id": "526b4475",
   "metadata": {},
   "outputs": [
    {
     "data": {
      "text/html": [
       "<div>\n",
       "<style scoped>\n",
       "    .dataframe tbody tr th:only-of-type {\n",
       "        vertical-align: middle;\n",
       "    }\n",
       "\n",
       "    .dataframe tbody tr th {\n",
       "        vertical-align: top;\n",
       "    }\n",
       "\n",
       "    .dataframe thead th {\n",
       "        text-align: right;\n",
       "    }\n",
       "</style>\n",
       "<table border=\"1\" class=\"dataframe\">\n",
       "  <thead>\n",
       "    <tr style=\"text-align: right;\">\n",
       "      <th></th>\n",
       "      <th>name</th>\n",
       "      <th>age</th>\n",
       "      <th>place</th>\n",
       "    </tr>\n",
       "  </thead>\n",
       "  <tbody>\n",
       "    <tr>\n",
       "      <th>a</th>\n",
       "      <td>gokul</td>\n",
       "      <td>17</td>\n",
       "      <td>kadapa</td>\n",
       "    </tr>\n",
       "    <tr>\n",
       "      <th>b</th>\n",
       "      <td>vatsa</td>\n",
       "      <td>16</td>\n",
       "      <td>kurnool</td>\n",
       "    </tr>\n",
       "    <tr>\n",
       "      <th>c</th>\n",
       "      <td>chatrapathi</td>\n",
       "      <td>17</td>\n",
       "      <td>kurnool</td>\n",
       "    </tr>\n",
       "  </tbody>\n",
       "</table>\n",
       "</div>"
      ],
      "text/plain": [
       "          name  age    place\n",
       "a        gokul   17   kadapa\n",
       "b        vatsa   16  kurnool\n",
       "c  chatrapathi   17  kurnool"
      ]
     },
     "execution_count": 4,
     "metadata": {},
     "output_type": "execute_result"
    }
   ],
   "source": [
    "df = pd.DataFrame(data, index=['a', 'b', 'c'])\n",
    "df"
   ]
  },
  {
   "cell_type": "markdown",
   "id": "679a67d7",
   "metadata": {},
   "source": [
    "Accessing data in dataframe"
   ]
  },
  {
   "cell_type": "code",
   "execution_count": 6,
   "id": "bcd3b1a4",
   "metadata": {},
   "outputs": [
    {
     "name": "stdout",
     "output_type": "stream",
     "text": [
      "a          gokul\n",
      "b          vatsa\n",
      "c    chatrapathi\n",
      "Name: name, dtype: object\n",
      "          name  age\n",
      "a        gokul   17\n",
      "b        vatsa   16\n",
      "c  chatrapathi   17\n"
     ]
    }
   ],
   "source": [
    "print(df['name'])\n",
    "print(df[['name', 'age']])"
   ]
  },
  {
   "cell_type": "code",
   "execution_count": 8,
   "id": "acabda68",
   "metadata": {},
   "outputs": [
    {
     "name": "stdout",
     "output_type": "stream",
     "text": [
      "name      gokul\n",
      "age          17\n",
      "place    kadapa\n",
      "Name: a, dtype: object\n",
      "name      gokul\n",
      "age          17\n",
      "place    kadapa\n",
      "Name: a, dtype: object\n"
     ]
    }
   ],
   "source": [
    "print(df.loc['a'])\n",
    "print(df.iloc[0])"
   ]
  },
  {
   "cell_type": "markdown",
   "id": "8cfb5f6e",
   "metadata": {},
   "source": [
    "basic info functions"
   ]
  },
  {
   "cell_type": "code",
   "execution_count": 10,
   "id": "80a153cd",
   "metadata": {},
   "outputs": [
    {
     "data": {
      "text/html": [
       "<div>\n",
       "<style scoped>\n",
       "    .dataframe tbody tr th:only-of-type {\n",
       "        vertical-align: middle;\n",
       "    }\n",
       "\n",
       "    .dataframe tbody tr th {\n",
       "        vertical-align: top;\n",
       "    }\n",
       "\n",
       "    .dataframe thead th {\n",
       "        text-align: right;\n",
       "    }\n",
       "</style>\n",
       "<table border=\"1\" class=\"dataframe\">\n",
       "  <thead>\n",
       "    <tr style=\"text-align: right;\">\n",
       "      <th></th>\n",
       "      <th>method</th>\n",
       "      <th>def</th>\n",
       "    </tr>\n",
       "  </thead>\n",
       "  <tbody>\n",
       "    <tr>\n",
       "      <th>0</th>\n",
       "      <td>df.shape</td>\n",
       "      <td>(rows, columns)</td>\n",
       "    </tr>\n",
       "    <tr>\n",
       "      <th>1</th>\n",
       "      <td>df.info()</td>\n",
       "      <td>summary of dataframe</td>\n",
       "    </tr>\n",
       "    <tr>\n",
       "      <th>2</th>\n",
       "      <td>df.describe()</td>\n",
       "      <td>summary for numeric stats</td>\n",
       "    </tr>\n",
       "  </tbody>\n",
       "</table>\n",
       "</div>"
      ],
      "text/plain": [
       "          method                        def\n",
       "0       df.shape            (rows, columns)\n",
       "1      df.info()       summary of dataframe\n",
       "2  df.describe()  summary for numeric stats"
      ]
     },
     "execution_count": 10,
     "metadata": {},
     "output_type": "execute_result"
    }
   ],
   "source": [
    "info = pd.DataFrame({\n",
    "    'method': ['df.shape', 'df.info()', 'df.describe()'],\n",
    "    'def': ['(rows, columns)', 'summary of dataframe', 'summary for numeric stats']\n",
    "})\n",
    "info"
   ]
  }
 ],
 "metadata": {
  "kernelspec": {
   "display_name": "Python 3",
   "language": "python",
   "name": "python3"
  },
  "language_info": {
   "codemirror_mode": {
    "name": "ipython",
    "version": 3
   },
   "file_extension": ".py",
   "mimetype": "text/x-python",
   "name": "python",
   "nbconvert_exporter": "python",
   "pygments_lexer": "ipython3",
   "version": "3.11.8"
  }
 },
 "nbformat": 4,
 "nbformat_minor": 5
}
