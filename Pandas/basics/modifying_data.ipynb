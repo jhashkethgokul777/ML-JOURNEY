{
 "cells": [
  {
   "cell_type": "code",
   "execution_count": 1,
   "id": "d73333a2",
   "metadata": {},
   "outputs": [],
   "source": [
    "import pandas as pd"
   ]
  },
  {
   "cell_type": "code",
   "execution_count": 2,
   "id": "e24c6ed6",
   "metadata": {},
   "outputs": [
    {
     "data": {
      "text/html": [
       "<div>\n",
       "<style scoped>\n",
       "    .dataframe tbody tr th:only-of-type {\n",
       "        vertical-align: middle;\n",
       "    }\n",
       "\n",
       "    .dataframe tbody tr th {\n",
       "        vertical-align: top;\n",
       "    }\n",
       "\n",
       "    .dataframe thead th {\n",
       "        text-align: right;\n",
       "    }\n",
       "</style>\n",
       "<table border=\"1\" class=\"dataframe\">\n",
       "  <thead>\n",
       "    <tr style=\"text-align: right;\">\n",
       "      <th></th>\n",
       "      <th>name</th>\n",
       "      <th>age</th>\n",
       "      <th>place</th>\n",
       "      <th>marks</th>\n",
       "      <th>grade</th>\n",
       "    </tr>\n",
       "  </thead>\n",
       "  <tbody>\n",
       "    <tr>\n",
       "      <th>0</th>\n",
       "      <td>gokul</td>\n",
       "      <td>17</td>\n",
       "      <td>kadapa</td>\n",
       "      <td>90</td>\n",
       "      <td>A</td>\n",
       "    </tr>\n",
       "    <tr>\n",
       "      <th>1</th>\n",
       "      <td>vatsa</td>\n",
       "      <td>16</td>\n",
       "      <td>kurnool</td>\n",
       "      <td>50</td>\n",
       "      <td>B</td>\n",
       "    </tr>\n",
       "    <tr>\n",
       "      <th>2</th>\n",
       "      <td>chatrapathi</td>\n",
       "      <td>17</td>\n",
       "      <td>kurnool</td>\n",
       "      <td>30</td>\n",
       "      <td>C</td>\n",
       "    </tr>\n",
       "  </tbody>\n",
       "</table>\n",
       "</div>"
      ],
      "text/plain": [
       "          name  age    place  marks grade\n",
       "0        gokul   17   kadapa     90     A\n",
       "1        vatsa   16  kurnool     50     B\n",
       "2  chatrapathi   17  kurnool     30     C"
      ]
     },
     "execution_count": 2,
     "metadata": {},
     "output_type": "execute_result"
    }
   ],
   "source": [
    "data = {\n",
    "    'name': ['gokul', 'vatsa', 'chatrapathi'],\n",
    "    'age': [17, 16, 17],\n",
    "    'place': ['kadapa', 'kurnool', 'kurnool'],\n",
    "    'marks': [90, 50, 30],\n",
    "    'grade': ['A', 'B', 'C'],\n",
    "}\n",
    "df = pd.DataFrame(data)\n",
    "df"
   ]
  },
  {
   "cell_type": "markdown",
   "id": "7f9fb004",
   "metadata": {},
   "source": [
    "1. Adding columns"
   ]
  },
  {
   "cell_type": "code",
   "execution_count": 3,
   "id": "1aa85557",
   "metadata": {},
   "outputs": [
    {
     "data": {
      "text/html": [
       "<div>\n",
       "<style scoped>\n",
       "    .dataframe tbody tr th:only-of-type {\n",
       "        vertical-align: middle;\n",
       "    }\n",
       "\n",
       "    .dataframe tbody tr th {\n",
       "        vertical-align: top;\n",
       "    }\n",
       "\n",
       "    .dataframe thead th {\n",
       "        text-align: right;\n",
       "    }\n",
       "</style>\n",
       "<table border=\"1\" class=\"dataframe\">\n",
       "  <thead>\n",
       "    <tr style=\"text-align: right;\">\n",
       "      <th></th>\n",
       "      <th>name</th>\n",
       "      <th>age</th>\n",
       "      <th>place</th>\n",
       "      <th>marks</th>\n",
       "      <th>grade</th>\n",
       "      <th>status</th>\n",
       "    </tr>\n",
       "  </thead>\n",
       "  <tbody>\n",
       "    <tr>\n",
       "      <th>0</th>\n",
       "      <td>gokul</td>\n",
       "      <td>17</td>\n",
       "      <td>kadapa</td>\n",
       "      <td>90</td>\n",
       "      <td>A</td>\n",
       "      <td>pass</td>\n",
       "    </tr>\n",
       "    <tr>\n",
       "      <th>1</th>\n",
       "      <td>vatsa</td>\n",
       "      <td>16</td>\n",
       "      <td>kurnool</td>\n",
       "      <td>50</td>\n",
       "      <td>B</td>\n",
       "      <td>pass</td>\n",
       "    </tr>\n",
       "    <tr>\n",
       "      <th>2</th>\n",
       "      <td>chatrapathi</td>\n",
       "      <td>17</td>\n",
       "      <td>kurnool</td>\n",
       "      <td>30</td>\n",
       "      <td>C</td>\n",
       "      <td>fail</td>\n",
       "    </tr>\n",
       "  </tbody>\n",
       "</table>\n",
       "</div>"
      ],
      "text/plain": [
       "          name  age    place  marks grade status\n",
       "0        gokul   17   kadapa     90     A   pass\n",
       "1        vatsa   16  kurnool     50     B   pass\n",
       "2  chatrapathi   17  kurnool     30     C   fail"
      ]
     },
     "execution_count": 3,
     "metadata": {},
     "output_type": "execute_result"
    }
   ],
   "source": [
    "df['status'] = ['pass', 'pass', 'fail']\n",
    "df"
   ]
  },
  {
   "cell_type": "markdown",
   "id": "8463a193",
   "metadata": {},
   "source": [
    "column based conditions"
   ]
  },
  {
   "cell_type": "code",
   "execution_count": 4,
   "id": "a6494a11",
   "metadata": {},
   "outputs": [
    {
     "data": {
      "text/html": [
       "<div>\n",
       "<style scoped>\n",
       "    .dataframe tbody tr th:only-of-type {\n",
       "        vertical-align: middle;\n",
       "    }\n",
       "\n",
       "    .dataframe tbody tr th {\n",
       "        vertical-align: top;\n",
       "    }\n",
       "\n",
       "    .dataframe thead th {\n",
       "        text-align: right;\n",
       "    }\n",
       "</style>\n",
       "<table border=\"1\" class=\"dataframe\">\n",
       "  <thead>\n",
       "    <tr style=\"text-align: right;\">\n",
       "      <th></th>\n",
       "      <th>name</th>\n",
       "      <th>age</th>\n",
       "      <th>place</th>\n",
       "      <th>marks</th>\n",
       "      <th>grade</th>\n",
       "      <th>status</th>\n",
       "      <th>result</th>\n",
       "    </tr>\n",
       "  </thead>\n",
       "  <tbody>\n",
       "    <tr>\n",
       "      <th>0</th>\n",
       "      <td>gokul</td>\n",
       "      <td>17</td>\n",
       "      <td>kadapa</td>\n",
       "      <td>90</td>\n",
       "      <td>A</td>\n",
       "      <td>pass</td>\n",
       "      <td>True</td>\n",
       "    </tr>\n",
       "    <tr>\n",
       "      <th>1</th>\n",
       "      <td>vatsa</td>\n",
       "      <td>16</td>\n",
       "      <td>kurnool</td>\n",
       "      <td>50</td>\n",
       "      <td>B</td>\n",
       "      <td>pass</td>\n",
       "      <td>False</td>\n",
       "    </tr>\n",
       "    <tr>\n",
       "      <th>2</th>\n",
       "      <td>chatrapathi</td>\n",
       "      <td>17</td>\n",
       "      <td>kurnool</td>\n",
       "      <td>30</td>\n",
       "      <td>C</td>\n",
       "      <td>fail</td>\n",
       "      <td>False</td>\n",
       "    </tr>\n",
       "  </tbody>\n",
       "</table>\n",
       "</div>"
      ],
      "text/plain": [
       "          name  age    place  marks grade status  result\n",
       "0        gokul   17   kadapa     90     A   pass    True\n",
       "1        vatsa   16  kurnool     50     B   pass   False\n",
       "2  chatrapathi   17  kurnool     30     C   fail   False"
      ]
     },
     "execution_count": 4,
     "metadata": {},
     "output_type": "execute_result"
    }
   ],
   "source": [
    "df['result'] = df['marks'] > 80\n",
    "df"
   ]
  },
  {
   "cell_type": "markdown",
   "id": "763568b6",
   "metadata": {},
   "source": [
    "updating columns"
   ]
  },
  {
   "cell_type": "code",
   "execution_count": 5,
   "id": "2ae0064c",
   "metadata": {},
   "outputs": [
    {
     "data": {
      "text/html": [
       "<div>\n",
       "<style scoped>\n",
       "    .dataframe tbody tr th:only-of-type {\n",
       "        vertical-align: middle;\n",
       "    }\n",
       "\n",
       "    .dataframe tbody tr th {\n",
       "        vertical-align: top;\n",
       "    }\n",
       "\n",
       "    .dataframe thead th {\n",
       "        text-align: right;\n",
       "    }\n",
       "</style>\n",
       "<table border=\"1\" class=\"dataframe\">\n",
       "  <thead>\n",
       "    <tr style=\"text-align: right;\">\n",
       "      <th></th>\n",
       "      <th>name</th>\n",
       "      <th>age</th>\n",
       "      <th>place</th>\n",
       "      <th>marks</th>\n",
       "      <th>grade</th>\n",
       "      <th>status</th>\n",
       "      <th>result</th>\n",
       "    </tr>\n",
       "  </thead>\n",
       "  <tbody>\n",
       "    <tr>\n",
       "      <th>0</th>\n",
       "      <td>gokul</td>\n",
       "      <td>17</td>\n",
       "      <td>kadapa</td>\n",
       "      <td>95</td>\n",
       "      <td>A</td>\n",
       "      <td>pass</td>\n",
       "      <td>True</td>\n",
       "    </tr>\n",
       "    <tr>\n",
       "      <th>1</th>\n",
       "      <td>vatsa</td>\n",
       "      <td>16</td>\n",
       "      <td>kurnool</td>\n",
       "      <td>55</td>\n",
       "      <td>B</td>\n",
       "      <td>pass</td>\n",
       "      <td>False</td>\n",
       "    </tr>\n",
       "    <tr>\n",
       "      <th>2</th>\n",
       "      <td>chatrapathi</td>\n",
       "      <td>17</td>\n",
       "      <td>kurnool</td>\n",
       "      <td>35</td>\n",
       "      <td>C</td>\n",
       "      <td>fail</td>\n",
       "      <td>False</td>\n",
       "    </tr>\n",
       "  </tbody>\n",
       "</table>\n",
       "</div>"
      ],
      "text/plain": [
       "          name  age    place  marks grade status  result\n",
       "0        gokul   17   kadapa     95     A   pass    True\n",
       "1        vatsa   16  kurnool     55     B   pass   False\n",
       "2  chatrapathi   17  kurnool     35     C   fail   False"
      ]
     },
     "execution_count": 5,
     "metadata": {},
     "output_type": "execute_result"
    }
   ],
   "source": [
    "df['marks'] = df['marks'] + 5 #this updates every value\n",
    "df"
   ]
  },
  {
   "cell_type": "code",
   "execution_count": 6,
   "id": "19f3a301",
   "metadata": {},
   "outputs": [
    {
     "data": {
      "text/html": [
       "<div>\n",
       "<style scoped>\n",
       "    .dataframe tbody tr th:only-of-type {\n",
       "        vertical-align: middle;\n",
       "    }\n",
       "\n",
       "    .dataframe tbody tr th {\n",
       "        vertical-align: top;\n",
       "    }\n",
       "\n",
       "    .dataframe thead th {\n",
       "        text-align: right;\n",
       "    }\n",
       "</style>\n",
       "<table border=\"1\" class=\"dataframe\">\n",
       "  <thead>\n",
       "    <tr style=\"text-align: right;\">\n",
       "      <th></th>\n",
       "      <th>name</th>\n",
       "      <th>age</th>\n",
       "      <th>place</th>\n",
       "      <th>marks</th>\n",
       "      <th>grade</th>\n",
       "      <th>status</th>\n",
       "      <th>result</th>\n",
       "    </tr>\n",
       "  </thead>\n",
       "  <tbody>\n",
       "    <tr>\n",
       "      <th>0</th>\n",
       "      <td>gokul</td>\n",
       "      <td>17</td>\n",
       "      <td>kadapa</td>\n",
       "      <td>90</td>\n",
       "      <td>A</td>\n",
       "      <td>pass</td>\n",
       "      <td>True</td>\n",
       "    </tr>\n",
       "    <tr>\n",
       "      <th>1</th>\n",
       "      <td>vatsa</td>\n",
       "      <td>16</td>\n",
       "      <td>kurnool</td>\n",
       "      <td>55</td>\n",
       "      <td>B</td>\n",
       "      <td>pass</td>\n",
       "      <td>False</td>\n",
       "    </tr>\n",
       "    <tr>\n",
       "      <th>2</th>\n",
       "      <td>chatrapathi</td>\n",
       "      <td>17</td>\n",
       "      <td>kurnool</td>\n",
       "      <td>35</td>\n",
       "      <td>C</td>\n",
       "      <td>fail</td>\n",
       "      <td>False</td>\n",
       "    </tr>\n",
       "  </tbody>\n",
       "</table>\n",
       "</div>"
      ],
      "text/plain": [
       "          name  age    place  marks grade status  result\n",
       "0        gokul   17   kadapa     90     A   pass    True\n",
       "1        vatsa   16  kurnool     55     B   pass   False\n",
       "2  chatrapathi   17  kurnool     35     C   fail   False"
      ]
     },
     "execution_count": 6,
     "metadata": {},
     "output_type": "execute_result"
    }
   ],
   "source": [
    "df.at[0, 'marks'] = 90\n",
    "df"
   ]
  },
  {
   "cell_type": "markdown",
   "id": "93524dc3",
   "metadata": {},
   "source": [
    "deleting columns"
   ]
  },
  {
   "cell_type": "code",
   "execution_count": 7,
   "id": "5351831a",
   "metadata": {},
   "outputs": [],
   "source": [
    "del df['result']"
   ]
  },
  {
   "cell_type": "code",
   "execution_count": 8,
   "id": "b1b142e8",
   "metadata": {},
   "outputs": [
    {
     "data": {
      "text/html": [
       "<div>\n",
       "<style scoped>\n",
       "    .dataframe tbody tr th:only-of-type {\n",
       "        vertical-align: middle;\n",
       "    }\n",
       "\n",
       "    .dataframe tbody tr th {\n",
       "        vertical-align: top;\n",
       "    }\n",
       "\n",
       "    .dataframe thead th {\n",
       "        text-align: right;\n",
       "    }\n",
       "</style>\n",
       "<table border=\"1\" class=\"dataframe\">\n",
       "  <thead>\n",
       "    <tr style=\"text-align: right;\">\n",
       "      <th></th>\n",
       "      <th>name</th>\n",
       "      <th>age</th>\n",
       "      <th>place</th>\n",
       "      <th>marks</th>\n",
       "      <th>grade</th>\n",
       "      <th>status</th>\n",
       "    </tr>\n",
       "  </thead>\n",
       "  <tbody>\n",
       "    <tr>\n",
       "      <th>0</th>\n",
       "      <td>gokul</td>\n",
       "      <td>17</td>\n",
       "      <td>kadapa</td>\n",
       "      <td>90</td>\n",
       "      <td>A</td>\n",
       "      <td>pass</td>\n",
       "    </tr>\n",
       "    <tr>\n",
       "      <th>1</th>\n",
       "      <td>vatsa</td>\n",
       "      <td>16</td>\n",
       "      <td>kurnool</td>\n",
       "      <td>55</td>\n",
       "      <td>B</td>\n",
       "      <td>pass</td>\n",
       "    </tr>\n",
       "    <tr>\n",
       "      <th>2</th>\n",
       "      <td>chatrapathi</td>\n",
       "      <td>17</td>\n",
       "      <td>kurnool</td>\n",
       "      <td>35</td>\n",
       "      <td>C</td>\n",
       "      <td>fail</td>\n",
       "    </tr>\n",
       "  </tbody>\n",
       "</table>\n",
       "</div>"
      ],
      "text/plain": [
       "          name  age    place  marks grade status\n",
       "0        gokul   17   kadapa     90     A   pass\n",
       "1        vatsa   16  kurnool     55     B   pass\n",
       "2  chatrapathi   17  kurnool     35     C   fail"
      ]
     },
     "execution_count": 8,
     "metadata": {},
     "output_type": "execute_result"
    }
   ],
   "source": [
    "df"
   ]
  },
  {
   "cell_type": "code",
   "execution_count": 9,
   "id": "6a4cbb88",
   "metadata": {},
   "outputs": [
    {
     "data": {
      "text/html": [
       "<div>\n",
       "<style scoped>\n",
       "    .dataframe tbody tr th:only-of-type {\n",
       "        vertical-align: middle;\n",
       "    }\n",
       "\n",
       "    .dataframe tbody tr th {\n",
       "        vertical-align: top;\n",
       "    }\n",
       "\n",
       "    .dataframe thead th {\n",
       "        text-align: right;\n",
       "    }\n",
       "</style>\n",
       "<table border=\"1\" class=\"dataframe\">\n",
       "  <thead>\n",
       "    <tr style=\"text-align: right;\">\n",
       "      <th></th>\n",
       "      <th>name</th>\n",
       "      <th>age</th>\n",
       "      <th>place</th>\n",
       "      <th>marks</th>\n",
       "      <th>grade</th>\n",
       "    </tr>\n",
       "  </thead>\n",
       "  <tbody>\n",
       "    <tr>\n",
       "      <th>0</th>\n",
       "      <td>gokul</td>\n",
       "      <td>17</td>\n",
       "      <td>kadapa</td>\n",
       "      <td>90</td>\n",
       "      <td>A</td>\n",
       "    </tr>\n",
       "    <tr>\n",
       "      <th>1</th>\n",
       "      <td>vatsa</td>\n",
       "      <td>16</td>\n",
       "      <td>kurnool</td>\n",
       "      <td>55</td>\n",
       "      <td>B</td>\n",
       "    </tr>\n",
       "    <tr>\n",
       "      <th>2</th>\n",
       "      <td>chatrapathi</td>\n",
       "      <td>17</td>\n",
       "      <td>kurnool</td>\n",
       "      <td>35</td>\n",
       "      <td>C</td>\n",
       "    </tr>\n",
       "  </tbody>\n",
       "</table>\n",
       "</div>"
      ],
      "text/plain": [
       "          name  age    place  marks grade\n",
       "0        gokul   17   kadapa     90     A\n",
       "1        vatsa   16  kurnool     55     B\n",
       "2  chatrapathi   17  kurnool     35     C"
      ]
     },
     "execution_count": 9,
     "metadata": {},
     "output_type": "execute_result"
    }
   ],
   "source": [
    "#using drop()\n",
    "df = df.drop('status', axis=1)\n",
    "df"
   ]
  }
 ],
 "metadata": {
  "kernelspec": {
   "display_name": "Python 3",
   "language": "python",
   "name": "python3"
  },
  "language_info": {
   "codemirror_mode": {
    "name": "ipython",
    "version": 3
   },
   "file_extension": ".py",
   "mimetype": "text/x-python",
   "name": "python",
   "nbconvert_exporter": "python",
   "pygments_lexer": "ipython3",
   "version": "3.11.8"
  }
 },
 "nbformat": 4,
 "nbformat_minor": 5
}
