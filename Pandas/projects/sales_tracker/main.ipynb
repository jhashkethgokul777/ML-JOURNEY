{
 "cells": [
  {
   "cell_type": "code",
   "execution_count": null,
   "id": "ad3688b7",
   "metadata": {},
   "outputs": [],
   "source": [
    "import pandas as pd\n",
    "df  = pd.read_csv('sales_data.csv', delimiter=',')\n",
    "df"
   ]
  },
  {
   "cell_type": "code",
   "execution_count": null,
   "id": "c0031dea",
   "metadata": {},
   "outputs": [],
   "source": [
    "#daily revenue\n",
    "daily_revenue = df['units_sold']*df['price_per_unit']\n",
    "df['revenue'] = daily_revenue\n",
    "df\n",
    "total_revenue = df['revenue'].sum()\n"
   ]
  },
  {
   "cell_type": "code",
   "execution_count": null,
   "id": "0d6fe622",
   "metadata": {},
   "outputs": [],
   "source": [
    "product_summary = df.groupby('product').agg(Total_units_sold=('units_sold', 'sum'))\n"
   ]
  },
  {
   "cell_type": "code",
   "execution_count": null,
   "id": "7e5c8fb7",
   "metadata": {},
   "outputs": [
    {
     "data": {
      "text/plain": [
       "date\n",
       "2025-07-01    2000\n",
       "2025-07-02    1490\n",
       "2025-07-03     220\n",
       "Name: revenue, dtype: int64"
      ]
     },
     "execution_count": 13,
     "metadata": {},
     "output_type": "execute_result"
    }
   ],
   "source": [
    "daily_revenue = df.groupby('date')['revenue'].sum()\n",
    "top_day = daily_revenue.idxmax()\n",
    "top_day_value = daily_revenue.max()"
   ]
  },
  {
   "cell_type": "code",
   "execution_count": 15,
   "id": "2c368f9f",
   "metadata": {},
   "outputs": [],
   "source": [
    "df.to_csv('sales_with_revenue.csv', index=False)\n",
    "product_summary.to_csv('product_summary.csv')"
   ]
  },
  {
   "cell_type": "code",
   "execution_count": 16,
   "id": "a4477fe9",
   "metadata": {},
   "outputs": [],
   "source": [
    "daily_revenue.to_csv('daily_revenue.csv')"
   ]
  }
 ],
 "metadata": {
  "kernelspec": {
   "display_name": "Python 3",
   "language": "python",
   "name": "python3"
  },
  "language_info": {
   "codemirror_mode": {
    "name": "ipython",
    "version": 3
   },
   "file_extension": ".py",
   "mimetype": "text/x-python",
   "name": "python",
   "nbconvert_exporter": "python",
   "pygments_lexer": "ipython3",
   "version": "3.11.8"
  }
 },
 "nbformat": 4,
 "nbformat_minor": 5
}
