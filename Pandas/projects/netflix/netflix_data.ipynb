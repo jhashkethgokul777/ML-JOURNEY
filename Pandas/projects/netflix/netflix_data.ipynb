{
 "cells": [
  {
   "cell_type": "code",
   "execution_count": null,
   "id": "e548b21d",
   "metadata": {},
   "outputs": [],
   "source": [
    "import pandas as pd\n",
    "\n",
    "data = {\n",
    "    \"show_id\": [\"s1\", \"s2\", \"s3\", \"s4\", \"s5\", \"s6\", \"s7\", \"s8\", \"s9\", \"s10\"],\n",
    "    \"type\": [\"Movie\", \"TV Show\", \"Movie\", \"Movie\", \"TV Show\", \"Movie\", \"TV Show\", \"Movie\", \"TV Show\", \"Movie\"],\n",
    "    \"title\": [\"Inception\", \"Stranger Things\", \"The Irishman\", \"Roma\", \"Dark\", \"Extraction\", \"Breaking Bad\", \"Bird Box\", \"The Crown\", \"Enola Holmes\"],\n",
    "    \"director\": [\"Christopher Nolan\", None, \"Martin Scorsese\", \"Alfonso Cuarón\", None, \"Sam Hargrave\", None, \"Susanne Bier\", None, \"Harry Bradbeer\"],\n",
    "    \"cast\": [\n",
    "        \"Leonardo DiCaprio, Joseph Gordon-Levitt\",\n",
    "        \"Millie Bobby Brown, Finn Wolfhard\",\n",
    "        \"Robert De Niro, Al Pacino\",\n",
    "        \"Yalitza Aparicio, Marina de Tavira\",\n",
    "        \"Louis Hofmann, Lisa Vicari\",\n",
    "        \"Chris Hemsworth, Randeep Hooda\",\n",
    "        \"Bryan Cranston, Aaron Paul\",\n",
    "        \"Sandra Bullock, Trevante Rhodes\",\n",
    "        \"Olivia Colman, Helena Bonham Carter\",\n",
    "        \"Millie Bobby Brown, Henry Cavill\"\n",
    "    ],\n",
    "    \"country\": [\"USA\", \"USA\", \"USA\", \"Mexico\", \"Germany\", \"India\", \"USA\", \"USA\", \"UK\", \"UK\"],\n",
    "    \"date_added\": [\"2020-01-01\", \"2019-07-15\", \"2019-11-27\", \"2018-12-14\", \"2020-06-27\", \"2020-04-24\", \"2008-01-20\", \"2018-12-21\", \"2016-11-04\", \"2020-09-23\"],\n",
    "    \"release_year\": [2010, 2016, 2019, 2018, 2017, 2020, 2008, 2018, 2016, 2020],\n",
    "    \"rating\": [\"PG-13\", \"TV-14\", \"R\", \"R\", \"TV-MA\", \"R\", \"TV-MA\", \"R\", \"TV-MA\", \"PG-13\"],\n",
    "    \"duration\": [\"148 min\", \"3 Seasons\", \"209 min\", \"135 min\", \"3 Seasons\", \"117 min\", \"5 Seasons\", \"124 min\", \"4 Seasons\", \"123 min\"],\n",
    "    \"listed_in\": [\n",
    "        \"Sci-Fi & Fantasy, Action\",\n",
    "        \"Drama, Sci-Fi\",\n",
    "        \"Crime, Drama\",\n",
    "        \"International, Drama\",\n",
    "        \"Mystery, Sci-Fi\",\n",
    "        \"Action, Thriller\",\n",
    "        \"Crime, Drama\",\n",
    "        \"Horror, Thriller\",\n",
    "        \"Drama, History\",\n",
    "        \"Adventure, Mystery\"\n",
    "    ],\n",
    "    \"description\": [\n",
    "        \"A thief enters people's dreams.\",\n",
    "        \"Kids uncover a government secret.\",\n",
    "        \"A mob hitman recalls past crimes.\",\n",
    "        \"A maid’s life in Mexico City.\",\n",
    "        \"Time travel and family secrets.\",\n",
    "        \"A mercenary rescues a boy.\",\n",
    "        \"A chemistry teacher turns to meth.\",\n",
    "        \"A mother protects her children.\",\n",
    "        \"The reign of Queen Elizabeth II.\",\n",
    "        \"Teen detective solves mysteries.\"\n",
    "    ]\n",
    "}\n",
    "\n",
    "df = pd.DataFrame(data)\n",
    "df['date_added'] = pd.to_datetime(df['date_added'])"
   ]
  },
  {
   "cell_type": "code",
   "execution_count": null,
   "id": "3cee2d25",
   "metadata": {},
   "outputs": [],
   "source": [
    "df"
   ]
  },
  {
   "cell_type": "code",
   "execution_count": null,
   "id": "e5a4cda7",
   "metadata": {},
   "outputs": [],
   "source": [
    "df.fillna('unknown', inplace=True)\n",
    "df.sort_values(by='date_added', inplace=True)\n"
   ]
  },
  {
   "cell_type": "code",
   "execution_count": null,
   "id": "835c2328",
   "metadata": {},
   "outputs": [],
   "source": [
    "#analysis\n",
    "#filter movies\n",
    "movies = df[df[\"type\"] == 'Movie']\n",
    "\n",
    "#extract numeric duration\n",
    "movies['duration_minutes'] = movies['duration'].str.extract(\"(\\d+)\").astype(int)\n"
   ]
  },
  {
   "cell_type": "code",
   "execution_count": null,
   "id": "9d92077c",
   "metadata": {},
   "outputs": [],
   "source": [
    "average_duration = movies[\"duration_minutes\"].mean()\n",
    "average_duration"
   ]
  },
  {
   "cell_type": "code",
   "execution_count": null,
   "id": "ca2ccfcc",
   "metadata": {},
   "outputs": [],
   "source": [
    "genre_series = df[\"listed_in\"].str.split(\",\").explode()\n",
    "genre_count = genre_series.value_counts()\n",
    "genre_count.head(5)"
   ]
  },
  {
   "cell_type": "code",
   "execution_count": null,
   "id": "18a1bbaa",
   "metadata": {},
   "outputs": [],
   "source": [
    "actors = df[\"cast\"].str.split(\",\").explode()\n",
    "actors_count = actors.value_counts()\n",
    "actors_count.head(5)\n"
   ]
  },
  {
   "cell_type": "code",
   "execution_count": null,
   "id": "06b2d9fe",
   "metadata": {},
   "outputs": [],
   "source": [
    "country = df.groupby('country')\n"
   ]
  }
 ],
 "metadata": {
  "kernelspec": {
   "display_name": "Python 3",
   "language": "python",
   "name": "python3"
  },
  "language_info": {
   "codemirror_mode": {
    "name": "ipython",
    "version": 3
   },
   "file_extension": ".py",
   "mimetype": "text/x-python",
   "name": "python",
   "nbconvert_exporter": "python",
   "pygments_lexer": "ipython3",
   "version": "3.11.8"
  }
 },
 "nbformat": 4,
 "nbformat_minor": 5
}
