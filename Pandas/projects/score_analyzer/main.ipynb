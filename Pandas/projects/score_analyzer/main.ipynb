{
 "cells": [
  {
   "cell_type": "code",
   "execution_count": null,
   "id": "00216289",
   "metadata": {},
   "outputs": [],
   "source": [
    "import pandas as pd\n",
    "df = pd.read_csv('student_data.csv', delimiter=',')\n",
    "df"
   ]
  },
  {
   "cell_type": "code",
   "execution_count": null,
   "id": "d6f5f102",
   "metadata": {},
   "outputs": [],
   "source": [
    "#Toatal marks\n",
    "df['Total'] = df[['maths', 'physics', 'chemistry', 'english', 'computer']].sum(axis=1)\n",
    "#avg \n",
    "df['average'] = df[['maths', 'physics', 'chemistry', 'english', 'computer']].mean(axis=1)\n",
    "#grade\n",
    "def assign_grade(avg):\n",
    "    if avg >= 85:\n",
    "        return \"A\"\n",
    "    elif avg >= 70:\n",
    "        return \"B\"\n",
    "    elif avg >= 50:\n",
    "        return \"c\"\n",
    "    else:\n",
    "        return \"Fail\"\n",
    "df['grade'] = df['average'].apply(assign_grade)\n",
    "df"
   ]
  },
  {
   "cell_type": "code",
   "execution_count": null,
   "id": "4b92561c",
   "metadata": {},
   "outputs": [],
   "source": [
    "#sort by total marks\n",
    "df_sorted = df.sort_values(by='Total', ascending=False)\n",
    "#top 3\n",
    "top_3 = df_sorted.head(3)\n",
    "top_3"
   ]
  },
  {
   "cell_type": "code",
   "execution_count": null,
   "id": "5286de92",
   "metadata": {},
   "outputs": [],
   "source": [
    "df_sorted.to_csv(\"student_report.csv\", index=False)"
   ]
  },
  {
   "cell_type": "code",
   "execution_count": null,
   "id": "ae19a0ec",
   "metadata": {},
   "outputs": [],
   "source": [
    "#display \n",
    "print(\"Students report:\\n\", df_sorted)\n",
    "print(\"\\n Top 3 Performers:\\n\", top_3)"
   ]
  }
 ],
 "metadata": {
  "kernelspec": {
   "display_name": "Python 3",
   "language": "python",
   "name": "python3"
  },
  "language_info": {
   "codemirror_mode": {
    "name": "ipython",
    "version": 3
   },
   "file_extension": ".py",
   "mimetype": "text/x-python",
   "name": "python",
   "nbconvert_exporter": "python",
   "pygments_lexer": "ipython3",
   "version": "3.11.8"
  }
 },
 "nbformat": 4,
 "nbformat_minor": 5
}
