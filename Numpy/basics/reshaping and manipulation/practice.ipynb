{
 "cells": [
  {
   "cell_type": "code",
   "execution_count": null,
   "id": "42c7f75c",
   "metadata": {},
   "outputs": [],
   "source": [
    "import numpy as np"
   ]
  },
  {
   "cell_type": "markdown",
   "id": "8ed6b20a",
   "metadata": {},
   "source": [
    "TASK-1"
   ]
  },
  {
   "cell_type": "code",
   "execution_count": null,
   "id": "98eb9f5f",
   "metadata": {},
   "outputs": [],
   "source": [
    "a = np.arange(1,25)\n",
    "print(a.size)\n",
    "print(a.reshape(4, 3, 2))\n",
    "a.flatten()\n"
   ]
  },
  {
   "cell_type": "markdown",
   "id": "ba204f8f",
   "metadata": {},
   "source": [
    "TASK 2"
   ]
  },
  {
   "cell_type": "code",
   "execution_count": null,
   "id": "1b90a66d",
   "metadata": {},
   "outputs": [],
   "source": [
    "b = np.arange(1, 16).reshape(3, 1, 5)\n",
    "print(b)\n",
    "c = np.squeeze(b)\n",
    "print(c)\n",
    "c.ndim\n"
   ]
  },
  {
   "cell_type": "markdown",
   "id": "d9f5845b",
   "metadata": {},
   "source": [
    "TASK 3"
   ]
  },
  {
   "cell_type": "code",
   "execution_count": 23,
   "id": "4cd84bf1",
   "metadata": {},
   "outputs": [
    {
     "name": "stdout",
     "output_type": "stream",
     "text": [
      "[[ 1  2  3]\n",
      " [ 4  5  6]\n",
      " [ 7  8  9]\n",
      " [10 11 12]]\n",
      "[[ 1  2  3  7  8  9]\n",
      " [ 4  5  6 10 11 12]]\n"
     ]
    }
   ],
   "source": [
    "a = np.arange(1, 7).reshape(2, 3)\n",
    "b = np.arange(7, 13).reshape(2, 3)\n",
    "c = np.vstack((a, b))\n",
    "print(c)\n",
    "d = np.hstack((a, b))\n",
    "print(d)"
   ]
  },
  {
   "cell_type": "markdown",
   "id": "0fec4154",
   "metadata": {},
   "source": [
    "TASK-4"
   ]
  },
  {
   "cell_type": "code",
   "execution_count": null,
   "id": "c2821a1d",
   "metadata": {},
   "outputs": [
    {
     "name": "stdout",
     "output_type": "stream",
     "text": [
      "[ 1  2  3  4  5  6  7  8  9 10]\n"
     ]
    },
    {
     "data": {
      "text/plain": [
       "[array([1, 2]), array([3, 4]), array([5, 6]), array([7, 8]), array([ 9, 10])]"
      ]
     },
     "execution_count": 26,
     "metadata": {},
     "output_type": "execute_result"
    }
   ],
   "source": [
    "a = np.arange(1, 11)\n",
    "print(a)\n",
    "np.split(a, 5, axis=0)"
   ]
  }
 ],
 "metadata": {
  "kernelspec": {
   "display_name": "Python 3",
   "language": "python",
   "name": "python3"
  },
  "language_info": {
   "codemirror_mode": {
    "name": "ipython",
    "version": 3
   },
   "file_extension": ".py",
   "mimetype": "text/x-python",
   "name": "python",
   "nbconvert_exporter": "python",
   "pygments_lexer": "ipython3",
   "version": "3.11.8"
  }
 },
 "nbformat": 4,
 "nbformat_minor": 5
}
