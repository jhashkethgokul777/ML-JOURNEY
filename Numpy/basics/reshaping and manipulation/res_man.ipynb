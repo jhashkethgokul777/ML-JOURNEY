{
 "cells": [
  {
   "cell_type": "code",
   "execution_count": null,
   "id": "227484c9",
   "metadata": {},
   "outputs": [],
   "source": [
    "import numpy as np"
   ]
  },
  {
   "cell_type": "markdown",
   "id": "46ba72f5",
   "metadata": {},
   "source": [
    "Numpy Array Reshaping & Manipulation"
   ]
  },
  {
   "cell_type": "markdown",
   "id": "1af0ca4e",
   "metadata": {},
   "source": [
    "1. reshape() --> Changing The Shape"
   ]
  },
  {
   "cell_type": "code",
   "execution_count": null,
   "id": "a674a602",
   "metadata": {},
   "outputs": [],
   "source": [
    "arr = np.arange(12)\n",
    "reshaped = arr.reshape(3, 4)\n",
    "print(reshaped)"
   ]
  },
  {
   "cell_type": "markdown",
   "id": "5c67da08",
   "metadata": {},
   "source": [
    "2. Flattening: flatten() vs ravel()"
   ]
  },
  {
   "cell_type": "code",
   "execution_count": null,
   "id": "e8a6bc53",
   "metadata": {},
   "outputs": [],
   "source": [
    "#flatten()--> returns a copy\n",
    "arr = np.array([[1,2], [3,4]])\n",
    "print(arr.flatten())\n",
    "arr"
   ]
  },
  {
   "cell_type": "code",
   "execution_count": null,
   "id": "018aa45c",
   "metadata": {},
   "outputs": [],
   "source": [
    "#ravel() --> returns a view\n",
    "arr.ravel()"
   ]
  },
  {
   "cell_type": "markdown",
   "id": "e2dc2595",
   "metadata": {},
   "source": [
    "3. Transpose: .T and np.transpose()"
   ]
  },
  {
   "cell_type": "code",
   "execution_count": null,
   "id": "3daf9562",
   "metadata": {},
   "outputs": [],
   "source": [
    "#for 2d arrays\n",
    "arr = np.array([[1, 2, 3], [4, 5, 6]])\n",
    "arr.T"
   ]
  },
  {
   "cell_type": "code",
   "execution_count": null,
   "id": "50e61c6e",
   "metadata": {},
   "outputs": [],
   "source": [
    "#for ndarrays \n",
    "arr = np.array([[[1, 2, 3], [4, 5, 6], [7, 8, 9]]])\n",
    "np.transpose(arr, (1, 0, 2))"
   ]
  },
  {
   "cell_type": "markdown",
   "id": "2c57a3ee",
   "metadata": {},
   "source": [
    "4. expand_dims() and squeeze()"
   ]
  },
  {
   "cell_type": "code",
   "execution_count": null,
   "id": "81599f56",
   "metadata": {},
   "outputs": [],
   "source": [
    "# expand_dims()--> add new axis\n",
    "a = np.array([1, 2, 3])\n",
    "b = np.expand_dims(a, axis=0)\n",
    "b.shape"
   ]
  },
  {
   "cell_type": "code",
   "execution_count": null,
   "id": "b0bc631d",
   "metadata": {},
   "outputs": [],
   "source": [
    "# squeeze()--> remove axes with size 1\n",
    "arr = np.array([[[5]]])\n",
    "sq = np.squeeze(arr)"
   ]
  },
  {
   "cell_type": "markdown",
   "id": "7f23c3bc",
   "metadata": {},
   "source": [
    "5. resize()--> Permanet shape change"
   ]
  },
  {
   "cell_type": "code",
   "execution_count": null,
   "id": "cc433d47",
   "metadata": {},
   "outputs": [],
   "source": [
    "a = np.array([1,2,3,4,5,6])\n",
    "a.resize((2,3))\n",
    "print(a)"
   ]
  },
  {
   "cell_type": "markdown",
   "id": "339a9372",
   "metadata": {},
   "source": [
    "6. Stacking Arrays"
   ]
  },
  {
   "cell_type": "code",
   "execution_count": null,
   "id": "0f7b79a0",
   "metadata": {},
   "outputs": [],
   "source": [
    "#vstack()--> vertical\n",
    "a =  np.array([1, 2])\n",
    "b = np.array([3, 4])\n",
    "np.vstack((a,b))"
   ]
  },
  {
   "cell_type": "code",
   "execution_count": null,
   "id": "87da3393",
   "metadata": {},
   "outputs": [],
   "source": [
    "#hstack()--> Horizontal\n",
    "np.hstack((a,b))"
   ]
  },
  {
   "cell_type": "code",
   "execution_count": null,
   "id": "efbb3f1e",
   "metadata": {},
   "outputs": [],
   "source": [
    "#dstack()--> depth-wise stacking\n",
    "c =np.dstack((a,b))\n",
    "print(c)\n",
    "print(c.shape)"
   ]
  },
  {
   "cell_type": "code",
   "execution_count": null,
   "id": "f053bad8",
   "metadata": {},
   "outputs": [],
   "source": [
    "#stack()--> specify the axis\n",
    "np.stack((a,b), axis=1)"
   ]
  },
  {
   "cell_type": "markdown",
   "id": "02c2dd12",
   "metadata": {},
   "source": [
    "7. Splitting Arrays"
   ]
  },
  {
   "cell_type": "code",
   "execution_count": null,
   "id": "9c9288ae",
   "metadata": {},
   "outputs": [],
   "source": [
    "#split()--> Divide array into chunks\n",
    "arr = np.arange(12).reshape(3, 4)\n",
    "print(arr)\n",
    "np.split(arr, 2, axis=1)\n",
    "#hsplit(), vsplit(), dsplit()"
   ]
  }
 ],
 "metadata": {
  "kernelspec": {
   "display_name": "Python 3",
   "language": "python",
   "name": "python3"
  },
  "language_info": {
   "codemirror_mode": {
    "name": "ipython",
    "version": 3
   },
   "file_extension": ".py",
   "mimetype": "text/x-python",
   "name": "python",
   "nbconvert_exporter": "python",
   "pygments_lexer": "ipython3",
   "version": "3.11.8"
  }
 },
 "nbformat": 4,
 "nbformat_minor": 5
}
