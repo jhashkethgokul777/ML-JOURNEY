{
 "cells": [
  {
   "cell_type": "code",
   "execution_count": 2,
   "id": "151f98aa",
   "metadata": {},
   "outputs": [],
   "source": [
    "import numpy as np"
   ]
  },
  {
   "cell_type": "code",
   "execution_count": 3,
   "id": "b37c8fd3",
   "metadata": {},
   "outputs": [
    {
     "data": {
      "text/plain": [
       "array([[1, 2, 3],\n",
       "       [4, 5, 6],\n",
       "       [7, 8, 9]])"
      ]
     },
     "execution_count": 3,
     "metadata": {},
     "output_type": "execute_result"
    }
   ],
   "source": [
    "a = np.arange(1, 10).reshape(3, 3)\n",
    "a #want to test"
   ]
  },
  {
   "cell_type": "code",
   "execution_count": 4,
   "id": "b2f04397",
   "metadata": {},
   "outputs": [
    {
     "name": "stdout",
     "output_type": "stream",
     "text": [
      "[0 0 0 0 0 0 0 0 0 0]\n"
     ]
    },
    {
     "data": {
      "text/plain": [
       "array([0, 0, 0, 0, 0, 1, 0, 0, 0, 0])"
      ]
     },
     "execution_count": 4,
     "metadata": {},
     "output_type": "execute_result"
    }
   ],
   "source": [
    "b = np.zeros(10, dtype='int')\n",
    "print(b)\n",
    "b[5] = 1\n",
    "b\n"
   ]
  },
  {
   "cell_type": "code",
   "execution_count": 5,
   "id": "68ec2ec2",
   "metadata": {},
   "outputs": [
    {
     "data": {
      "text/plain": [
       "array([[7, 7, 7, 7],\n",
       "       [7, 7, 7, 7],\n",
       "       [7, 7, 7, 7],\n",
       "       [7, 7, 7, 7]])"
      ]
     },
     "execution_count": 5,
     "metadata": {},
     "output_type": "execute_result"
    }
   ],
   "source": [
    "c = np.arange(16).reshape(4, 4)\n",
    "c.fill(7)\n",
    "c\n"
   ]
  },
  {
   "cell_type": "code",
   "execution_count": 6,
   "id": "751313ce",
   "metadata": {},
   "outputs": [
    {
     "name": "stdout",
     "output_type": "stream",
     "text": [
      "[[1 2 3]\n",
      " [4 5 6]\n",
      " [7 8 9]]\n"
     ]
    },
    {
     "data": {
      "text/plain": [
       "array([3, 6, 9])"
      ]
     },
     "execution_count": 6,
     "metadata": {},
     "output_type": "execute_result"
    }
   ],
   "source": [
    "d = np.arange(1, 10).reshape(3, 3)\n",
    "print(d)\n",
    "d[:, -1]"
   ]
  },
  {
   "cell_type": "code",
   "execution_count": 7,
   "id": "22092aad",
   "metadata": {},
   "outputs": [
    {
     "name": "stdout",
     "output_type": "stream",
     "text": [
      "[10 20 30 40 50]\n"
     ]
    },
    {
     "data": {
      "text/plain": [
       "array([50, 40, 30, 20, 10])"
      ]
     },
     "execution_count": 7,
     "metadata": {},
     "output_type": "execute_result"
    }
   ],
   "source": [
    "e = np.arange(10, 51, 10)\n",
    "print(e)\n",
    "e[::-1]"
   ]
  },
  {
   "cell_type": "code",
   "execution_count": 8,
   "id": "9aa4805f",
   "metadata": {},
   "outputs": [
    {
     "data": {
      "text/plain": [
       "array([[1, 1, 1],\n",
       "       [1, 9, 1],\n",
       "       [1, 1, 1]])"
      ]
     },
     "execution_count": 8,
     "metadata": {},
     "output_type": "execute_result"
    }
   ],
   "source": [
    "f = np.ones(9, dtype='int').reshape(3, 3)\n",
    "f[1, 1] = 9\n",
    "f\n"
   ]
  },
  {
   "cell_type": "code",
   "execution_count": 11,
   "id": "ac13ef14",
   "metadata": {},
   "outputs": [
    {
     "name": "stdout",
     "output_type": "stream",
     "text": [
      "[1 2 3 4]\n"
     ]
    }
   ],
   "source": [
    "g = np.array([1, 2, 3, 4])\n",
    "np.save('test1.npy', g)\n",
    "load = np.load('test1.npy')\n",
    "print(load)"
   ]
  },
  {
   "cell_type": "code",
   "execution_count": 17,
   "id": "9c526254",
   "metadata": {},
   "outputs": [
    {
     "name": "stdout",
     "output_type": "stream",
     "text": [
      "[[1 2 3]\n",
      " [4 5 6]\n",
      " [7 8 9]]\n"
     ]
    }
   ],
   "source": [
    "h = np.arange(1, 10).reshape(3, 3)\n",
    "np.savetxt('test2.txt', h, delimiter=',', fmt='%d')\n",
    "load = np.loadtxt('test2.txt', delimiter=',', dtype='int')\n",
    "print(load)"
   ]
  },
  {
   "cell_type": "code",
   "execution_count": 22,
   "id": "9d07d183",
   "metadata": {},
   "outputs": [
    {
     "data": {
      "text/plain": [
       "array([[ 0,  1,  2,  3],\n",
       "       [ 4,  5,  6,  7],\n",
       "       [ 8,  9, 10, 11]])"
      ]
     },
     "execution_count": 22,
     "metadata": {},
     "output_type": "execute_result"
    }
   ],
   "source": [
    "i = np.arange(12).reshape(3, 4)\n",
    "i"
   ]
  },
  {
   "cell_type": "code",
   "execution_count": 29,
   "id": "e5cb9f93",
   "metadata": {},
   "outputs": [
    {
     "name": "stdout",
     "output_type": "stream",
     "text": [
      "[[1 2 3]\n",
      " [4 5 6]\n",
      " [7 8 9]]\n",
      "[1 2 3 4 5 6 7 8 9] 1\n"
     ]
    }
   ],
   "source": [
    "j = np.arange(1, 10).reshape(3, 3)\n",
    "print(j)\n",
    "k = j.flatten()\n",
    "print(k, k.ndim)\n"
   ]
  },
  {
   "cell_type": "code",
   "execution_count": 35,
   "id": "0cb801c9",
   "metadata": {},
   "outputs": [
    {
     "name": "stdout",
     "output_type": "stream",
     "text": [
      "[[0. 0.]\n",
      " [0. 0.]\n",
      " [1. 1.]\n",
      " [1. 1.]]\n",
      "[[0. 0. 1. 1.]\n",
      " [0. 0. 1. 1.]]\n"
     ]
    }
   ],
   "source": [
    "l = np.zeros((2, 2))\n",
    "m = np.ones((2, 2))\n",
    "print(np.vstack((l, m)))\n",
    "print(np.hstack((l ,m)))"
   ]
  },
  {
   "cell_type": "code",
   "execution_count": 46,
   "id": "629d60c7",
   "metadata": {},
   "outputs": [
    {
     "name": "stdout",
     "output_type": "stream",
     "text": [
      "[[11 21 31]\n",
      " [12 22 32]\n",
      " [13 23 33]]\n"
     ]
    },
    {
     "data": {
      "text/plain": [
       "(array([[0],\n",
       "        [2],\n",
       "        [4]]),\n",
       " array([18, 38, 58]))"
      ]
     },
     "execution_count": 46,
     "metadata": {},
     "output_type": "execute_result"
    }
   ],
   "source": [
    "n = np.array([[1], [2], [3]])\n",
    "o = np.array([10, 20, 30])\n",
    "print(n+o)\n",
    "result = ((n*2)-2), ((o*2)-2)\n",
    "result"
   ]
  },
  {
   "cell_type": "code",
   "execution_count": 51,
   "id": "56e60b64",
   "metadata": {},
   "outputs": [
    {
     "name": "stdout",
     "output_type": "stream",
     "text": [
      "[1 2 3 4] [5 6 7 8]\n",
      "[2 3 4 5] [6 7 8 9]\n",
      "[0 1 2 3] [4 5 6 7]\n",
      "[2 4 6 8] [10 12 14 16]\n",
      "[0.5 1.  1.5 2. ] [2.5 3.  3.5 4. ]\n"
     ]
    }
   ],
   "source": [
    "p = np.arange(1, 5)\n",
    "q = np.arange(5, 9)\n",
    "print(p, q)\n",
    "print(p+1, q+1)\n",
    "print(p-1, q-1)\n",
    "print(p*2, q*2)\n",
    "print(p/2, q/2)"
   ]
  },
  {
   "cell_type": "code",
   "execution_count": 58,
   "id": "82e48c8f",
   "metadata": {},
   "outputs": [
    {
     "name": "stdout",
     "output_type": "stream",
     "text": [
      "root:  [1. 2. 3. 4. 5.] log:  [0.         1.38629436 2.19722458 2.77258872 3.21887582] square:  [  1  16  81 256 625]\n"
     ]
    }
   ],
   "source": [
    "r = np.array([1, 4, 9, 16, 25])\n",
    "print(\"root: \",np.sqrt(r),\"log: \",np.log(r),\"square: \",np.square(r))"
   ]
  },
  {
   "cell_type": "code",
   "execution_count": 63,
   "id": "681e190c",
   "metadata": {},
   "outputs": [
    {
     "name": "stdout",
     "output_type": "stream",
     "text": [
      "[[1 2 3]\n",
      " [4 5 6]\n",
      " [7 8 9]]\n",
      "45\n",
      "max:  9 min:  1 mean:  5.0 std:  2.581988897471611\n",
      "[12 15 18]\n",
      "[ 6 15 24]\n"
     ]
    }
   ],
   "source": [
    "s = np.arange(1, 10).reshape(3, 3)\n",
    "print(s)\n",
    "print(np.sum(s))\n",
    "print(\"max: \",np.max(s),\"min: \",np.min(s),\"mean: \",np.mean(s),\"std: \",np.std(s))\n",
    "print(np.sum(s, axis=0)) #column\n",
    "print(np.sum(s, axis=1))"
   ]
  },
  {
   "cell_type": "code",
   "execution_count": 73,
   "id": "d661580e",
   "metadata": {},
   "outputs": [
    {
     "data": {
      "text/plain": [
       "array([[85, 75, 49,  8],\n",
       "       [18, 99, 76, 57],\n",
       "       [54, 18, 70, 98],\n",
       "       [18, 25, 64, 43]], dtype=int32)"
      ]
     },
     "execution_count": 73,
     "metadata": {},
     "output_type": "execute_result"
    }
   ],
   "source": [
    "t = np.random.randint(1, 101, size=(4,4)) #generates an array of random integers\n",
    "t\n"
   ]
  },
  {
   "cell_type": "code",
   "execution_count": 83,
   "id": "5c3e2bd1",
   "metadata": {},
   "outputs": [
    {
     "data": {
      "text/plain": [
       "array([[0.22106799, 0.37309558, 0.82611677, 0.56087356, 0.78257735],\n",
       "       [0.48634901, 0.49288439, 0.37105605, 0.27746287, 0.10940358]])"
      ]
     },
     "execution_count": 83,
     "metadata": {},
     "output_type": "execute_result"
    }
   ],
   "source": [
    "u = np.random.rand(2, 5)\n",
    "u\n"
   ]
  }
 ],
 "metadata": {
  "kernelspec": {
   "display_name": "Python 3",
   "language": "python",
   "name": "python3"
  },
  "language_info": {
   "codemirror_mode": {
    "name": "ipython",
    "version": 3
   },
   "file_extension": ".py",
   "mimetype": "text/x-python",
   "name": "python",
   "nbconvert_exporter": "python",
   "pygments_lexer": "ipython3",
   "version": "3.11.8"
  }
 },
 "nbformat": 4,
 "nbformat_minor": 5
}
