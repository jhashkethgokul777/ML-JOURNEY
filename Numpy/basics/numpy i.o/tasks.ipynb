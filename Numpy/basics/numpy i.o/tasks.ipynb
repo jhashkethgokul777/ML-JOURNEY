{
 "cells": [
  {
   "cell_type": "code",
   "execution_count": null,
   "id": "94e320d3",
   "metadata": {},
   "outputs": [],
   "source": [
    "import numpy as np"
   ]
  },
  {
   "cell_type": "markdown",
   "id": "e3342d2d",
   "metadata": {},
   "source": [
    "TASK-1:- save and load a random matrix"
   ]
  },
  {
   "cell_type": "code",
   "execution_count": null,
   "id": "ff1ee539",
   "metadata": {},
   "outputs": [],
   "source": [
    "a = np.random.randint(1, 101, size=(4, 4))\n",
    "np.save('task1.npy', a)\n",
    "b = np.load('task1.npy')\n",
    "b"
   ]
  },
  {
   "cell_type": "markdown",
   "id": "b6fe2536",
   "metadata": {},
   "source": [
    "TASK-2:- work with multiple arrays"
   ]
  },
  {
   "cell_type": "code",
   "execution_count": null,
   "id": "060bc2f6",
   "metadata": {},
   "outputs": [],
   "source": [
    "c = np.arange(1, 5)\n",
    "d = np.arange(5, 10)\n",
    "np.savez('task2.npz', arr1= c, arr2= d)\n",
    "data = np.load('task2.npz')\n",
    "print(data['arr1'])\n",
    "data['arr2']"
   ]
  },
  {
   "cell_type": "markdown",
   "id": "e58a1da6",
   "metadata": {},
   "source": [
    "TASK-3:- save and load a txt file"
   ]
  },
  {
   "cell_type": "code",
   "execution_count": null,
   "id": "f2592441",
   "metadata": {},
   "outputs": [],
   "source": [
    "a = np.arange(1., 10.).reshape(3,3)\n",
    "np.savetxt('task3.txt',a, delimiter=',', fmt='%.2f')\n",
    "load = np.loadtxt('task3.txt', delimiter=',')\n",
    "print(load)\n",
    "load.dtype"
   ]
  },
  {
   "cell_type": "markdown",
   "id": "32679849",
   "metadata": {},
   "source": [
    "TASK-4:- selective loading from a file"
   ]
  },
  {
   "cell_type": "code",
   "execution_count": null,
   "id": "8177da69",
   "metadata": {},
   "outputs": [],
   "source": [
    "a = np.arange(1, 16).reshape(5, 3)\n",
    "np.savetxt('task4.txt', a, delimiter=',', fmt='%d')\n",
    "data = np.loadtxt('task4.txt', delimiter=',', skiprows=1, usecols=(1,2))\n",
    "data"
   ]
  },
  {
   "cell_type": "markdown",
   "id": "063ec509",
   "metadata": {},
   "source": [
    "TASK-5:-  Handle Missing Data"
   ]
  },
  {
   "cell_type": "code",
   "execution_count": null,
   "id": "d67b6da5",
   "metadata": {},
   "outputs": [],
   "source": [
    "data = np.genfromtxt('task5.txt', delimiter=',', filling_values=0)\n",
    "print(data)"
   ]
  },
  {
   "cell_type": "markdown",
   "id": "04e3e1fd",
   "metadata": {},
   "source": [
    "BONUS (Realistic ML Context)"
   ]
  },
  {
   "cell_type": "code",
   "execution_count": null,
   "id": "6e91965d",
   "metadata": {},
   "outputs": [],
   "source": [
    "weights = np.random.randn(3, 3)\n",
    "np.save('bonus.npy', weights)\n"
   ]
  },
  {
   "cell_type": "code",
   "execution_count": null,
   "id": "296d9476",
   "metadata": {},
   "outputs": [],
   "source": [
    "load = np.load('bonus.npy')\n",
    "update = load*2\n",
    "np.save('update.npy', update)\n"
   ]
  },
  {
   "cell_type": "code",
   "execution_count": null,
   "id": "208ffa31",
   "metadata": {},
   "outputs": [],
   "source": [
    "original = np.load('bonus.npy')\n",
    "updated = np.load('update.npy')\n",
    "\n",
    "print(\"orginal:\", original)\n",
    "print(\"updated:\", updated)"
   ]
  }
 ],
 "metadata": {
  "kernelspec": {
   "display_name": "Python 3",
   "language": "python",
   "name": "python3"
  },
  "language_info": {
   "codemirror_mode": {
    "name": "ipython",
    "version": 3
   },
   "file_extension": ".py",
   "mimetype": "text/x-python",
   "name": "python",
   "nbconvert_exporter": "python",
   "pygments_lexer": "ipython3",
   "version": "3.11.8"
  }
 },
 "nbformat": 4,
 "nbformat_minor": 5
}
