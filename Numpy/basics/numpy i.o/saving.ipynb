{
 "cells": [
  {
   "cell_type": "code",
   "execution_count": null,
   "id": "b1ecfcb6",
   "metadata": {},
   "outputs": [],
   "source": [
    "import numpy as np"
   ]
  },
  {
   "cell_type": "markdown",
   "id": "36b13ebf",
   "metadata": {},
   "source": [
    "A. np.save()--> saving a single array"
   ]
  },
  {
   "cell_type": "code",
   "execution_count": null,
   "id": "f63fe1da",
   "metadata": {},
   "outputs": [],
   "source": [
    "a = np.array([1, 2, 3, 4])\n",
    "np.save('my_array.npy', a)"
   ]
  },
  {
   "cell_type": "markdown",
   "id": "f196f032",
   "metadata": {},
   "source": [
    "B. np.load()--> loading a .npy file"
   ]
  },
  {
   "cell_type": "code",
   "execution_count": null,
   "id": "59bedfba",
   "metadata": {},
   "outputs": [],
   "source": [
    "b = np.load('my_array.npy')\n",
    "print(b)"
   ]
  },
  {
   "cell_type": "markdown",
   "id": "f8a79325",
   "metadata": {},
   "source": [
    "C. np.savez()--> save multiple arrays"
   ]
  },
  {
   "cell_type": "code",
   "execution_count": null,
   "id": "ed06b0a5",
   "metadata": {},
   "outputs": [],
   "source": [
    "a = np.arange(1,5)\n",
    "b = np.array([5, 6, 7, 8])\n",
    "np.savez('multi_array.npz',arr1= a, arr2= b)"
   ]
  },
  {
   "cell_type": "code",
   "execution_count": null,
   "id": "3da8f8c4",
   "metadata": {},
   "outputs": [],
   "source": [
    "data = np.load('multi_array.npz')\n",
    "print(data['arr1'])\n",
    "print(data['arr2'])"
   ]
  },
  {
   "cell_type": "markdown",
   "id": "3f1e9110",
   "metadata": {},
   "source": [
    "D. np.savetxt()--> saves a text file"
   ]
  },
  {
   "cell_type": "code",
   "execution_count": null,
   "id": "6645e5c1",
   "metadata": {},
   "outputs": [],
   "source": [
    "c = np.array([[1,2,3], [4,5,6]])\n",
    "np.savetxt('data.txt', c, delimiter=',', fmt='%d')"
   ]
  },
  {
   "cell_type": "markdown",
   "id": "96c89c00",
   "metadata": {},
   "source": [
    "E. np.loadtxt()--> loads a text file"
   ]
  },
  {
   "cell_type": "code",
   "execution_count": null,
   "id": "7e941137",
   "metadata": {},
   "outputs": [],
   "source": [
    "data = np.loadtxt('data.txt', delimiter=',', dtype=int, skiprows=1, usecols=(0, 1, 2))\n",
    "print(data)"
   ]
  },
  {
   "cell_type": "markdown",
   "id": "3041358d",
   "metadata": {},
   "source": [
    "F. np.genfromtxt()--> For Missing or Messy Data"
   ]
  },
  {
   "cell_type": "code",
   "execution_count": 34,
   "id": "0ca44fc6",
   "metadata": {},
   "outputs": [],
   "source": [
    "#data = np.genfromtxt('data_with_miss.txt', delimiter=',', filling_values=0)"
   ]
  }
 ],
 "metadata": {
  "kernelspec": {
   "display_name": "Python 3",
   "language": "python",
   "name": "python3"
  },
  "language_info": {
   "codemirror_mode": {
    "name": "ipython",
    "version": 3
   },
   "file_extension": ".py",
   "mimetype": "text/x-python",
   "name": "python",
   "nbconvert_exporter": "python",
   "pygments_lexer": "ipython3",
   "version": "3.11.8"
  }
 },
 "nbformat": 4,
 "nbformat_minor": 5
}
