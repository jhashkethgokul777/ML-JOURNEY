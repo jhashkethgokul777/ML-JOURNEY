{
 "cells": [
  {
   "cell_type": "code",
   "execution_count": null,
   "id": "7f0ee039",
   "metadata": {},
   "outputs": [],
   "source": [
    "import numpy as np"
   ]
  },
  {
   "cell_type": "markdown",
   "id": "ac29d0c0",
   "metadata": {},
   "source": [
    "1. Elemental-Wise Arithmetic"
   ]
  },
  {
   "cell_type": "code",
   "execution_count": null,
   "id": "4c173f07",
   "metadata": {},
   "outputs": [],
   "source": [
    "a = np.array([1, 2, 3])\n",
    "b = np.array([4, 5, 6])\n",
    "print(a+b)\n",
    "print(a-b)\n",
    "print(a*b)\n",
    "print(a/b)"
   ]
  },
  {
   "cell_type": "code",
   "execution_count": null,
   "id": "1ee1fffd",
   "metadata": {},
   "outputs": [],
   "source": [
    "a = np.array([1, 2, 3])\n",
    "print(a+5)\n",
    "print(a*10)\n",
    "print(a**2)"
   ]
  },
  {
   "cell_type": "code",
   "execution_count": null,
   "id": "3d953321",
   "metadata": {},
   "outputs": [],
   "source": [
    "b = np.array([1, 2, 3])\n",
    "print(np.sqrt(b))\n",
    "print(np.exp(b))\n",
    "print(np.sin(b))"
   ]
  },
  {
   "cell_type": "markdown",
   "id": "0e9c89cb",
   "metadata": {},
   "source": [
    "4. Aggregate Functions"
   ]
  },
  {
   "cell_type": "code",
   "execution_count": null,
   "id": "2849ca75",
   "metadata": {},
   "outputs": [],
   "source": [
    "arr = np.array([[1, 2, 3], [4, 5, 6]])\n",
    "print(np.sum(arr))\n",
    "print(np.mean(arr))\n",
    "print(np.std(arr))\n",
    "print(np.max(arr))\n",
    "print(np.min(arr))\n",
    "print(np.sum(arr, axis=0))\n",
    "print(np.sum(arr, axis=1))\n"
   ]
  },
  {
   "cell_type": "markdown",
   "id": "d4af58c2",
   "metadata": {},
   "source": [
    "5. comparison and logical  ops"
   ]
  },
  {
   "cell_type": "code",
   "execution_count": null,
   "id": "515298f0",
   "metadata": {},
   "outputs": [],
   "source": [
    "a = np.array([1,2,3,4])\n",
    "print(a>2)\n",
    "np.logical_and(a>1, a<4)"
   ]
  },
  {
   "cell_type": "markdown",
   "id": "0fd481dc",
   "metadata": {},
   "source": [
    "6. Broadcasting(!Very Important):- Broadcasting lets numpy apply operations to \n",
    "arrays of different shapes..."
   ]
  },
  {
   "cell_type": "code",
   "execution_count": null,
   "id": "bb759b4a",
   "metadata": {},
   "outputs": [
    {
     "name": "stdout",
     "output_type": "stream",
     "text": [
      "[3 4 5]\n",
      "[[2 2 4]\n",
      " [5 5 7]]\n"
     ]
    }
   ],
   "source": [
    "a = np.array([1, 2, 3])\n",
    "b = 2\n",
    "print(a+b)\n",
    "\n",
    "#2D example\n",
    "arr = np.array([[1,2,3], [4,5,6]])\n",
    "vec = np.array([1,0,1])\n",
    "print(arr+vec) #dimensions must be equal or one of them must be 1.."
   ]
  }
 ],
 "metadata": {
  "kernelspec": {
   "display_name": "Python 3",
   "language": "python",
   "name": "python3"
  },
  "language_info": {
   "codemirror_mode": {
    "name": "ipython",
    "version": 3
   },
   "file_extension": ".py",
   "mimetype": "text/x-python",
   "name": "python",
   "nbconvert_exporter": "python",
   "pygments_lexer": "ipython3",
   "version": "3.11.8"
  }
 },
 "nbformat": 4,
 "nbformat_minor": 5
}
