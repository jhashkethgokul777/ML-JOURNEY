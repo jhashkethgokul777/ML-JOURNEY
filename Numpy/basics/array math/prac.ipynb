{
 "cells": [
  {
   "cell_type": "code",
   "execution_count": null,
   "id": "dee38f91",
   "metadata": {},
   "outputs": [],
   "source": [
    "import numpy as np"
   ]
  },
  {
   "cell_type": "markdown",
   "id": "f251d144",
   "metadata": {},
   "source": [
    "TASK-1: Create Two Array"
   ]
  },
  {
   "cell_type": "code",
   "execution_count": null,
   "id": "68d9b3cf",
   "metadata": {},
   "outputs": [],
   "source": [
    "a = np.array([2, 4, 6])\n",
    "b = np.array([1, 2, 3])\n",
    "print(a+b)\n",
    "print(a-b)\n",
    "print(a/b)\n",
    "print(a*b)"
   ]
  },
  {
   "cell_type": "code",
   "execution_count": null,
   "id": "cd21b7cd",
   "metadata": {},
   "outputs": [],
   "source": [
    "print(np.exp(a))\n",
    "np.log(a)"
   ]
  },
  {
   "cell_type": "markdown",
   "id": "e86da267",
   "metadata": {},
   "source": [
    "TASK 2:- Create a 2d Array"
   ]
  },
  {
   "cell_type": "code",
   "execution_count": null,
   "id": "6d33d894",
   "metadata": {},
   "outputs": [],
   "source": [
    "a = np.arange(1, 10).reshape(3, 3)\n",
    "print(a)\n",
    "print(np.sum(a, axis=0), (np.mean(a, axis=0)), (np.std(a, axis=0))) #columns\n",
    "print(np.sum(a, axis=1), (np.mean(a, axis=1)), (np.std(a, axis=1))) #rows \n",
    "print()"
   ]
  }
 ],
 "metadata": {
  "kernelspec": {
   "display_name": "Python 3",
   "language": "python",
   "name": "python3"
  },
  "language_info": {
   "codemirror_mode": {
    "name": "ipython",
    "version": 3
   },
   "file_extension": ".py",
   "mimetype": "text/x-python",
   "name": "python",
   "nbconvert_exporter": "python",
   "pygments_lexer": "ipython3",
   "version": "3.11.8"
  }
 },
 "nbformat": 4,
 "nbformat_minor": 5
}
