{
 "cells": [
  {
   "cell_type": "markdown",
   "id": "9c83b151",
   "metadata": {},
   "source": [
    "Numpy arrays can be defined using python lists and tuples.\n",
    "1.a list of numbers will create a 1D array,\n",
    "\n",
    "2.a list of lists will create a 2D array,\n",
    "\n",
    "3.further nested lists will create higher-dimensional arrays. In general, any array object is called an ndarray in NumPy."
   ]
  },
  {
   "cell_type": "code",
   "execution_count": null,
   "id": "e7806f76",
   "metadata": {},
   "outputs": [],
   "source": [
    "import numpy as np\n",
    "a1 = np.array([1, 2, 3, 4])\n",
    "a2 = np.array([[1,2],[3,4]])\n",
    "a3 = np.array([[[1,2],[3,4],[5,6],[7,8]]])\n"
   ]
  },
  {
   "cell_type": "markdown",
   "id": "9cb0914f",
   "metadata": {},
   "source": [
    "1- 1D ARRAY CREATION\n",
    "The 1D array creation functions e.g. numpy.linspace and numpy.arange"
   ]
  },
  {
   "cell_type": "code",
   "execution_count": null,
   "id": "10e8b89f",
   "metadata": {},
   "outputs": [],
   "source": [
    "print(np.arange(10))\n",
    "print(np.arange(2, 10, dtype=float))\n",
    "print(np.arange(2, 3, 0.1))"
   ]
  },
  {
   "cell_type": "code",
   "execution_count": null,
   "id": "162b1acd",
   "metadata": {},
   "outputs": [],
   "source": [
    "print(np.linspace(1., 5., 6))"
   ]
  },
  {
   "cell_type": "markdown",
   "id": "793ea0cc",
   "metadata": {},
   "source": [
    "2- 2D ARRAY CREATION\n",
    "The 2D array creation functions e.g. numpy.eye, numpy.diag, and numpy.vander"
   ]
  },
  {
   "cell_type": "code",
   "execution_count": null,
   "id": "07c82cf1",
   "metadata": {},
   "outputs": [],
   "source": [
    "print(np.eye(3))\n",
    "print(np.eye(3, 5))"
   ]
  },
  {
   "cell_type": "code",
   "execution_count": null,
   "id": "0e85dfb0",
   "metadata": {},
   "outputs": [],
   "source": [
    "print(np.diag([1, 2, 3]))\n",
    "print(np.diag([1,2,3], 1))"
   ]
  },
  {
   "cell_type": "markdown",
   "id": "880a32fe",
   "metadata": {},
   "source": [
    "3 - GENERAL ndarray creation functions\n",
    "The ndarray creation functions e.g. numpy.ones, numpy.zeros, and random define arrays based upon the desired shape. "
   ]
  },
  {
   "cell_type": "code",
   "execution_count": null,
   "id": "21cab0fb",
   "metadata": {},
   "outputs": [],
   "source": [
    "print(np.zeros((2,3)))\n",
    "np.zeros((2, 3, 2))"
   ]
  },
  {
   "cell_type": "code",
   "execution_count": null,
   "id": "cbf8f50e",
   "metadata": {},
   "outputs": [],
   "source": [
    "np.ones((2, 3))\n",
    "np.ones((2, 2, 3))"
   ]
  },
  {
   "cell_type": "code",
   "execution_count": null,
   "id": "ec52efeb",
   "metadata": {},
   "outputs": [],
   "source": [
    "np.random.randn(1, 10)"
   ]
  },
  {
   "cell_type": "markdown",
   "id": "c89f1939",
   "metadata": {},
   "source": [
    "3) replicating, joining or mutating existing arrays.\n"
   ]
  },
  {
   "cell_type": "code",
   "execution_count": null,
   "id": "2c4daa8a",
   "metadata": {},
   "outputs": [
    {
     "name": "stdout",
     "output_type": "stream",
     "text": [
      "a= [2 3 3 4 5 6] b= [2 3]\n"
     ]
    }
   ],
   "source": [
    "#about view\n",
    "a = np.array([1, 2, 3, 4, 5, 6])\n",
    "b = a[:2]\n",
    "b += 1\n",
    "print('a=', a, 'b=', b) #the orginial copy is also changed."
   ]
  },
  {
   "cell_type": "code",
   "execution_count": null,
   "id": "259719ab",
   "metadata": {},
   "outputs": [
    {
     "name": "stdout",
     "output_type": "stream",
     "text": [
      "a =  [1 2 3 4] b =  [2 3]\n"
     ]
    }
   ],
   "source": [
    "#copy\n",
    "a = np.array([1, 2, 3, 4])\n",
    "b = a[:2].copy()\n",
    "b += 1\n",
    "print('a = ', a, 'b = ', b) #A copy"
   ]
  },
  {
   "cell_type": "markdown",
   "id": "8193ce9b",
   "metadata": {},
   "source": [
    "There are a number of routines to join existing arrays e.g. numpy.vstack, numpy.hstack, and numpy.block.."
   ]
  },
  {
   "cell_type": "code",
   "execution_count": 21,
   "id": "e10c3e73",
   "metadata": {},
   "outputs": [
    {
     "name": "stdout",
     "output_type": "stream",
     "text": [
      "[[1. 1.]\n",
      " [1. 1.]]\n",
      "[[1. 0.]\n",
      " [0. 1.]]\n",
      "[[0. 0.]\n",
      " [0. 0.]]\n",
      "[[-3  0]\n",
      " [ 0 -4]]\n"
     ]
    },
    {
     "data": {
      "text/plain": [
       "array([[ 1.,  1.,  1.,  0.],\n",
       "       [ 1.,  1.,  0.,  1.],\n",
       "       [ 0.,  0., -3.,  0.],\n",
       "       [ 0.,  0.,  0., -4.]])"
      ]
     },
     "execution_count": 21,
     "metadata": {},
     "output_type": "execute_result"
    }
   ],
   "source": [
    "a = np.ones((2,2))\n",
    "print(a)\n",
    "b = np.eye(2,2)\n",
    "print(b)\n",
    "c = np.zeros((2,2))\n",
    "print(c)\n",
    "d = np.diag((-3, -4))\n",
    "print(d)\n",
    "np.block([[a, b], [c, d]])\n"
   ]
  }
 ],
 "metadata": {
  "kernelspec": {
   "display_name": "Python 3",
   "language": "python",
   "name": "python3"
  },
  "language_info": {
   "codemirror_mode": {
    "name": "ipython",
    "version": 3
   },
   "file_extension": ".py",
   "mimetype": "text/x-python",
   "name": "python",
   "nbconvert_exporter": "python",
   "pygments_lexer": "ipython3",
   "version": "3.11.8"
  }
 },
 "nbformat": 4,
 "nbformat_minor": 5
}
