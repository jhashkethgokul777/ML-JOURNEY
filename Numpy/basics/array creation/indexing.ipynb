{
 "cells": [
  {
   "cell_type": "markdown",
   "id": "90cb7ed5",
   "metadata": {},
   "source": [
    "Basic Indexing"
   ]
  },
  {
   "cell_type": "code",
   "execution_count": null,
   "id": "a1de7e9f",
   "metadata": {},
   "outputs": [],
   "source": [
    "import numpy as np"
   ]
  },
  {
   "cell_type": "code",
   "execution_count": null,
   "id": "b17be073",
   "metadata": {},
   "outputs": [],
   "source": [
    "x = np.arange(10)\n",
    "x[2]"
   ]
  },
  {
   "cell_type": "code",
   "execution_count": 1,
   "id": "fe8231a6",
   "metadata": {},
   "outputs": [
    {
     "ename": "NameError",
     "evalue": "name 'x' is not defined",
     "output_type": "error",
     "traceback": [
      "\u001b[31m---------------------------------------------------------------------------\u001b[39m",
      "\u001b[31mNameError\u001b[39m                                 Traceback (most recent call last)",
      "\u001b[36mCell\u001b[39m\u001b[36m \u001b[39m\u001b[32mIn[1]\u001b[39m\u001b[32m, line 1\u001b[39m\n\u001b[32m----> \u001b[39m\u001b[32m1\u001b[39m \u001b[43mx\u001b[49m.shape = (\u001b[32m2\u001b[39m, \u001b[32m5\u001b[39m)  \u001b[38;5;66;03m# now x is 2-dimensional\u001b[39;00m\n\u001b[32m      2\u001b[39m \u001b[38;5;28mprint\u001b[39m(x)\n\u001b[32m      3\u001b[39m x[\u001b[32m1\u001b[39m, \u001b[32m3\u001b[39m]\n",
      "\u001b[31mNameError\u001b[39m: name 'x' is not defined"
     ]
    }
   ],
   "source": [
    "x.shape = (2, 5)  # now x is 2-dimensional\n",
    "print(x)\n",
    "x[1, 3]\n",
    "x[1, -1]\n"
   ]
  },
  {
   "cell_type": "markdown",
   "id": "2b887d57",
   "metadata": {},
   "source": [
    "note that x[0, 2] == x[0][2] is same"
   ]
  },
  {
   "cell_type": "markdown",
   "id": "bfb833a2",
   "metadata": {},
   "source": [
    " A slice object (constructed by start:stop:step notation inside of brackets)"
   ]
  },
  {
   "cell_type": "code",
   "execution_count": null,
   "id": "d1b6543e",
   "metadata": {},
   "outputs": [],
   "source": [
    "x = np.array([0, 1, 2, 3, 4, 5, 6, 7, 8, 9])\n",
    "x[1:7:2] #start:stop:step"
   ]
  },
  {
   "cell_type": "markdown",
   "id": "5be2adcc",
   "metadata": {},
   "source": [
    "Negative i and j are interpreted as n + i and n + j where n is the number of elements in the corresponding dimension."
   ]
  },
  {
   "cell_type": "code",
   "execution_count": null,
   "id": "3c16b51e",
   "metadata": {},
   "outputs": [],
   "source": [
    "x[3:6]\n",
    "x[-5:2:-1]"
   ]
  },
  {
   "cell_type": "code",
   "execution_count": null,
   "id": "3954a2cb",
   "metadata": {},
   "outputs": [],
   "source": [
    "x = np.array([[[1],[2],[3]], [[4],[5],[6]]])\n",
    "x.shape\n",
    "x[1:]"
   ]
  },
  {
   "cell_type": "code",
   "execution_count": null,
   "id": "a25af1ff",
   "metadata": {},
   "outputs": [],
   "source": [
    "x = np.array([[1, 2], [3, 4], [5, 6]])\n",
    "x[1:]"
   ]
  },
  {
   "cell_type": "code",
   "execution_count": null,
   "id": "5c8cc9db",
   "metadata": {},
   "outputs": [],
   "source": [
    "y = np.arange(35).reshape(5, 7)\n",
    "print(y)\n",
    "print(y[np.array([3,3,3]), np.array([2,3,4])])\n"
   ]
  },
  {
   "cell_type": "code",
   "execution_count": null,
   "id": "50fb7075",
   "metadata": {},
   "outputs": [],
   "source": [
    "x = np.array([[ 0,  1,  2],\n",
    "              [ 3,  4,  5],\n",
    "              [ 6,  7,  8],\n",
    "              [ 9, 10, 11]])\n",
    "print(x)\n",
    "#r = np.array([[0,0], [3,3]])\n",
    "#c = np.array([[0,2], [0,2]])\n",
    "r = np.array([0,3])\n",
    "c = np.array([0,2])\n",
    "x[r, c]"
   ]
  },
  {
   "cell_type": "code",
   "execution_count": null,
   "id": "1c88034c",
   "metadata": {},
   "outputs": [],
   "source": [
    "x[np.ix_(r, c)]"
   ]
  }
 ],
 "metadata": {
  "kernelspec": {
   "display_name": "Python 3",
   "language": "python",
   "name": "python3"
  },
  "language_info": {
   "codemirror_mode": {
    "name": "ipython",
    "version": 3
   },
   "file_extension": ".py",
   "mimetype": "text/x-python",
   "name": "python",
   "nbconvert_exporter": "python",
   "pygments_lexer": "ipython3",
   "version": "3.11.8"
  }
 },
 "nbformat": 4,
 "nbformat_minor": 5
}
