{
 "cells": [
  {
   "cell_type": "code",
   "execution_count": null,
   "id": "3f5782d7",
   "metadata": {},
   "outputs": [],
   "source": [
    "import numpy as np"
   ]
  },
  {
   "cell_type": "markdown",
   "id": "5b1f4c96",
   "metadata": {},
   "source": [
    "1. VIEW VS COPY"
   ]
  },
  {
   "cell_type": "markdown",
   "id": "8ef4b7ab",
   "metadata": {},
   "source": [
    "view:\n",
    "    *No new data is created\n",
    "    *just another window into the same data in memory\n",
    "    *changes in the view affects the original array"
   ]
  },
  {
   "cell_type": "code",
   "execution_count": null,
   "id": "d8f869fe",
   "metadata": {},
   "outputs": [],
   "source": [
    "a = np.arange(1, 4)\n",
    "print(a)\n",
    "v = a[1:]\n",
    "v[0] = 7\n",
    "print(v) #the view\n",
    "print(a) #the original array"
   ]
  },
  {
   "cell_type": "markdown",
   "id": "12b07a72",
   "metadata": {},
   "source": [
    "copy:\n",
    "    *New data is copied.\n",
    "    *no effect in the original array."
   ]
  },
  {
   "cell_type": "code",
   "execution_count": null,
   "id": "5a9deabe",
   "metadata": {},
   "outputs": [],
   "source": [
    "a = np.arange(1, 4)\n",
    "print(a)\n",
    "c = a[:].copy()\n",
    "c[0] = 99\n",
    "print(c)\n",
    "print(a)"
   ]
  },
  {
   "cell_type": "markdown",
   "id": "ac2ec5a8",
   "metadata": {},
   "source": [
    "2. memory layout"
   ]
  },
  {
   "cell_type": "code",
   "execution_count": null,
   "id": "29c7138c",
   "metadata": {},
   "outputs": [],
   "source": [
    "a = np.array([[1, 2], [3, 4]], order='C')\n",
    "b = np.array([[1, 2], [3, 4]], order='F')\n",
    "print(a.flags)\n",
    "print(b.flags)"
   ]
  },
  {
   "cell_type": "markdown",
   "id": "de26767b",
   "metadata": {},
   "source": [
    "3. ravel() vs flatten()\n",
    "function    copy    editable\n",
    "flatten()   yes     no\n",
    "ravel()     no      yes"
   ]
  },
  {
   "cell_type": "code",
   "execution_count": 11,
   "id": "552e2759",
   "metadata": {},
   "outputs": [
    {
     "name": "stdout",
     "output_type": "stream",
     "text": [
      "[1 2 3 4]\n",
      "[[1 2]\n",
      " [3 4]]\n",
      "[10  2  3  4]\n"
     ]
    }
   ],
   "source": [
    "a = np.array([[1, 2], [3, 4]])\n",
    "f = a.flatten()\n",
    "r = a.ravel()\n",
    "print(f)\n",
    "print(a)\n",
    "r[0] = 10\n",
    "print(r)"
   ]
  }
 ],
 "metadata": {
  "kernelspec": {
   "display_name": "Python 3",
   "language": "python",
   "name": "python3"
  },
  "language_info": {
   "codemirror_mode": {
    "name": "ipython",
    "version": 3
   },
   "file_extension": ".py",
   "mimetype": "text/x-python",
   "name": "python",
   "nbconvert_exporter": "python",
   "pygments_lexer": "ipython3",
   "version": "3.11.8"
  }
 },
 "nbformat": 4,
 "nbformat_minor": 5
}
