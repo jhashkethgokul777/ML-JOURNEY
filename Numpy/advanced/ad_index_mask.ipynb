{
 "cells": [
  {
   "cell_type": "code",
   "execution_count": null,
   "id": "ee43fbbe",
   "metadata": {},
   "outputs": [],
   "source": [
    "import numpy as np"
   ]
  },
  {
   "cell_type": "markdown",
   "id": "d69d5e53",
   "metadata": {},
   "source": [
    "1. boolean masking"
   ]
  },
  {
   "cell_type": "code",
   "execution_count": null,
   "id": "4aea96a1",
   "metadata": {},
   "outputs": [],
   "source": [
    "a = np.array([10, 20, 30, 40, 50])\n",
    "mask = a>25\n",
    "print(mask)\n",
    "print(a[mask])"
   ]
  },
  {
   "cell_type": "markdown",
   "id": "b0bcf6b1",
   "metadata": {},
   "source": [
    "2. fancy indexing"
   ]
  },
  {
   "cell_type": "code",
   "execution_count": null,
   "id": "b515ab66",
   "metadata": {},
   "outputs": [],
   "source": [
    "a = np.array([100, 200, 300, 400])\n",
    "idx = [0, 2]\n",
    "print(a[idx])"
   ]
  },
  {
   "cell_type": "markdown",
   "id": "b080dd8e",
   "metadata": {},
   "source": [
    "3. combining conditions"
   ]
  },
  {
   "cell_type": "code",
   "execution_count": null,
   "id": "94d204c6",
   "metadata": {},
   "outputs": [],
   "source": [
    "a = np.array([5, 10, 15, 20])\n",
    "mask = (a > 5) & (a < 20)\n",
    "print(a[mask])"
   ]
  },
  {
   "cell_type": "markdown",
   "id": "478a4719",
   "metadata": {},
   "source": [
    "4. index with another array"
   ]
  },
  {
   "cell_type": "code",
   "execution_count": null,
   "id": "9573d408",
   "metadata": {},
   "outputs": [],
   "source": [
    "rows = np.array([0, 1])\n",
    "cols = np.array([1, 0])\n",
    "a = np.array([[10, 20], [30, 40]])\n",
    "print(a[rows, cols])"
   ]
  },
  {
   "cell_type": "markdown",
   "id": "bc4f1253",
   "metadata": {},
   "source": [
    "5. set values with masking"
   ]
  },
  {
   "cell_type": "code",
   "execution_count": 22,
   "id": "689794b9",
   "metadata": {},
   "outputs": [
    {
     "name": "stdout",
     "output_type": "stream",
     "text": [
      "[ 0 10 15 20]\n"
     ]
    }
   ],
   "source": [
    "a = np.array([5, 10, 15, 20])\n",
    "a[a < 10] = 0\n",
    "print(a)"
   ]
  }
 ],
 "metadata": {
  "kernelspec": {
   "display_name": "Python 3",
   "language": "python",
   "name": "python3"
  },
  "language_info": {
   "codemirror_mode": {
    "name": "ipython",
    "version": 3
   },
   "file_extension": ".py",
   "mimetype": "text/x-python",
   "name": "python",
   "nbconvert_exporter": "python",
   "pygments_lexer": "ipython3",
   "version": "3.11.8"
  }
 },
 "nbformat": 4,
 "nbformat_minor": 5
}
