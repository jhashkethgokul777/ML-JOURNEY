{
 "cells": [
  {
   "cell_type": "code",
   "execution_count": 1,
   "id": "4c703963",
   "metadata": {},
   "outputs": [],
   "source": [
    "import numpy as np"
   ]
  },
  {
   "cell_type": "markdown",
   "id": "08379add",
   "metadata": {},
   "source": [
    "What is Vectorization?\n",
    "Vectorization means replacing slow python loops with fast numpy operations."
   ]
  },
  {
   "cell_type": "code",
   "execution_count": null,
   "id": "912235d3",
   "metadata": {},
   "outputs": [
    {
     "data": {
      "text/plain": [
       "[2, 4, 6, 8]"
      ]
     },
     "execution_count": 3,
     "metadata": {},
     "output_type": "execute_result"
    }
   ],
   "source": [
    "#slow loop\n",
    "a = [1, 2, 3, 4]\n",
    "b = [2*x for x in a]"
   ]
  },
  {
   "cell_type": "code",
   "execution_count": 4,
   "id": "ae52093b",
   "metadata": {},
   "outputs": [
    {
     "data": {
      "text/plain": [
       "array([2, 4, 6, 8])"
      ]
     },
     "execution_count": 4,
     "metadata": {},
     "output_type": "execute_result"
    }
   ],
   "source": [
    "#fast(vectorized)\n",
    "a = np.array([1, 2, 3, 4])\n",
    "b = 2*a\n",
    "b"
   ]
  },
  {
   "cell_type": "markdown",
   "id": "f2ad8355",
   "metadata": {},
   "source": [
    "What is Broadcasting?\n",
    "Broadcasting allows numpy to perform operations between arrays of different shapes.\n",
    "it stretches smaller arrays to match the shape"
   ]
  },
  {
   "cell_type": "code",
   "execution_count": 5,
   "id": "fc39bccb",
   "metadata": {},
   "outputs": [
    {
     "data": {
      "text/plain": [
       "array([11, 12, 13])"
      ]
     },
     "execution_count": 5,
     "metadata": {},
     "output_type": "execute_result"
    }
   ],
   "source": [
    "#1. Add scalar to array\n",
    "a = np.array([1, 2, 3])\n",
    "a + 10 #10 is broadcasted to [10, 10, 10]"
   ]
  },
  {
   "cell_type": "code",
   "execution_count": 18,
   "id": "f2a73b51",
   "metadata": {},
   "outputs": [
    {
     "data": {
      "text/plain": [
       "array([[11, 22, 33],\n",
       "       [14, 25, 36]])"
      ]
     },
     "execution_count": 18,
     "metadata": {},
     "output_type": "execute_result"
    }
   ],
   "source": [
    "#add 2d + 1d\n",
    "a = np.array([[1, 2, 3], [4,5,6]])\n",
    "b = np.array([10, 20, 30])\n",
    "a + b\n",
    "\n",
    "\n"
   ]
  },
  {
   "cell_type": "code",
   "execution_count": null,
   "id": "976680f7",
   "metadata": {},
   "outputs": [],
   "source": []
  }
 ],
 "metadata": {
  "kernelspec": {
   "display_name": "Python 3",
   "language": "python",
   "name": "python3"
  },
  "language_info": {
   "codemirror_mode": {
    "name": "ipython",
    "version": 3
   },
   "file_extension": ".py",
   "mimetype": "text/x-python",
   "name": "python",
   "nbconvert_exporter": "python",
   "pygments_lexer": "ipython3",
   "version": "3.11.8"
  }
 },
 "nbformat": 4,
 "nbformat_minor": 5
}
