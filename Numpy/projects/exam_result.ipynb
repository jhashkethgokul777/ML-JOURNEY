{
 "cells": [
  {
   "cell_type": "code",
   "execution_count": null,
   "id": "6a60d193",
   "metadata": {},
   "outputs": [],
   "source": [
    "import numpy as np"
   ]
  },
  {
   "cell_type": "code",
   "execution_count": null,
   "id": "502a1ae0",
   "metadata": {},
   "outputs": [],
   "source": [
    "np.random.seed(45)\n",
    "scores = np.random.randint(0, 101, size=(100, 6))\n",
    "subjects = ['english', 'maths', 'science', 'history', 'cs', 'art']\n",
    "scores"
   ]
  },
  {
   "cell_type": "code",
   "execution_count": null,
   "id": "20ffb34e",
   "metadata": {},
   "outputs": [],
   "source": [
    "total_score = np.sum(scores, axis=1)\n",
    "avg_score = np.mean(scores, axis=1)\n",
    "\n",
    "grades = np.empty(100, dtype='str')\n",
    "\n",
    "grades[avg_score >= 90] = 'A'\n",
    "grades[(avg_score >= 80) & (avg_score < 90)] = 'B'\n",
    "grades[(avg_score >= 70) & (avg_score < 80)] = 'C'\n",
    "grades[(avg_score >= 60) & (avg_score < 70)] = 'D'\n",
    "grades[avg_score < 60] = 'F'\n",
    "\n",
    "np.max(total_score)"
   ]
  },
  {
   "cell_type": "code",
   "execution_count": null,
   "id": "02a47827",
   "metadata": {},
   "outputs": [],
   "source": [
    "subject_avg = np.mean(scores, axis=0)\n",
    "top_student = np.argmax(total_score)\n",
    "#topper_in_subjects = np.max(scores, axis=0)\n",
    "#print(topper_in_subjects)\n",
    "topper_in_idx = np.argmax(scores, axis=0)\n",
    "subject_avg = np.mean(scores, axis=0)\n",
    "subject_avg_idx = subjects[np.argmin(subject_avg)]\n"
   ]
  },
  {
   "cell_type": "code",
   "execution_count": null,
   "id": "b994ae9b",
   "metadata": {},
   "outputs": [],
   "source": [
    "low_to_high = np.argsort(-total_score)\n",
    "top_5 = low_to_high[:5]\n",
    "top_5_scores = scores[top_5]\n",
    "top_5\n"
   ]
  },
  {
   "cell_type": "code",
   "execution_count": null,
   "id": "f13ec32a",
   "metadata": {},
   "outputs": [],
   "source": [
    "failed_any_subject = np.any(scores < 40, axis=1)\n",
    "pass_fail = ~failed_any_subject"
   ]
  },
  {
   "cell_type": "code",
   "execution_count": null,
   "id": "8e4f367e",
   "metadata": {},
   "outputs": [],
   "source": [
    "print(\"Top student: \",top_student)\n",
    "print(\"subject averages:\", subject_avg)\n",
    "print(\"subject toppers:\", topper_in_idx)\n",
    "print(\"weakest subject:\", subject_avg_idx)\n",
    "\n",
    "for i in range(5):\n",
    "    print(f\"Rank {i+1}: student {top_5[i]} - {top_5_scores[i]}\")\n",
    "print(f\"\\n students passed all subjects: {np.sum(pass_fail)}\")\n",
    "print(f\"students failed atleast one subject: {np.sum(failed_any_subject)}\")"
   ]
  }
 ],
 "metadata": {
  "kernelspec": {
   "display_name": "Python 3",
   "language": "python",
   "name": "python3"
  },
  "language_info": {
   "codemirror_mode": {
    "name": "ipython",
    "version": 3
   },
   "file_extension": ".py",
   "mimetype": "text/x-python",
   "name": "python",
   "nbconvert_exporter": "python",
   "pygments_lexer": "ipython3",
   "version": "3.11.8"
  }
 },
 "nbformat": 4,
 "nbformat_minor": 5
}
