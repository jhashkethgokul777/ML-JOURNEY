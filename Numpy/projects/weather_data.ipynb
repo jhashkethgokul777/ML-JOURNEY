{
 "cells": [
  {
   "cell_type": "code",
   "execution_count": null,
   "id": "db81d9b2",
   "metadata": {},
   "outputs": [],
   "source": [
    "import numpy as np"
   ]
  },
  {
   "cell_type": "code",
   "execution_count": null,
   "id": "385eba98",
   "metadata": {},
   "outputs": [],
   "source": [
    "np.random.seed(0)\n",
    "temps = np.random.randint(15, 46, size=(6, 30))\n",
    "cities = ['chennai', 'delhi', 'mumbai','kolkata', 'hyderabad', 'banglore']\n"
   ]
  },
  {
   "cell_type": "code",
   "execution_count": null,
   "id": "69f79164",
   "metadata": {},
   "outputs": [],
   "source": [
    "city_temp = np.mean(temps, axis=1)\n",
    "hottest_day = np.argmax(temps, axis=1)\n",
    "coldest_day = np.argmin(temps, axis=1)\n"
   ]
  },
  {
   "cell_type": "code",
   "execution_count": null,
   "id": "eeea575b",
   "metadata": {},
   "outputs": [],
   "source": [
    "hot_city = cities[np.argmax(city_temp)]\n",
    "globally_hot_day = np.argmax(np.max(temps, axis=0))\n",
    "stable_temp = np.std(temps, axis=1)\n",
    "stable_city = cities[np.argmin(stable_temp)]\n",
    "stable_city_idx = np.round(stable_temp, 2)\n",
    "stable_city_idx"
   ]
  },
  {
   "cell_type": "code",
   "execution_count": null,
   "id": "fa6abb7a",
   "metadata": {},
   "outputs": [],
   "source": [
    "chennai_above =  np.where(temps[0]>=40)[0]\n",
    "never_20  = np.all(temps>=20, axis=1)\n",
    "\n",
    "city_20 = [cities[i] for i in range(len(cities)) if never_20[i]]\n"
   ]
  },
  {
   "cell_type": "code",
   "execution_count": 76,
   "id": "3f43119c",
   "metadata": {},
   "outputs": [
    {
     "name": "stdout",
     "output_type": "stream",
     "text": [
      "chennai-avg_temp: 28.90|hottest_day:6|coldest_day:4\n",
      "\n",
      "delhi-avg_temp: 29.60|hottest_day:7|coldest_day:10\n",
      "\n",
      "mumbai-avg_temp: 26.70|hottest_day:4|coldest_day:6\n",
      "\n",
      "kolkata-avg_temp: 28.57|hottest_day:2|coldest_day:3\n",
      "\n",
      "hyderabad-avg_temp: 27.03|hottest_day:9|coldest_day:7\n",
      "\n",
      "banglore-avg_temp: 28.97|hottest_day:5|coldest_day:30\n",
      "\n",
      "hottest city overall: delhi(29.6)\n",
      "global hottest day:Day-5\n",
      "most stable city:kolkata(7.67)\n",
      "chennai(days above 40): [ 6 19 28]\n",
      "cities(never below 20): []\n"
     ]
    }
   ],
   "source": [
    "for i, name in enumerate(cities):\n",
    "    print(f\"{name}-avg_temp: {city_temp[i]:.2f}|hottest_day:{hottest_day[i]+1}|coldest_day:{coldest_day[i]+1}\\n\")\n",
    "print(f\"hottest city overall: {hot_city}({city_temp[1]})\")\n",
    "print(f\"global hottest day:Day-{globally_hot_day+1}\")\n",
    "print(f\"most stable city:{stable_city}({stable_city_idx[3]})\")\n",
    "print(f\"chennai(days above 40): {chennai_above+1}\")\n",
    "print(f\"cities(never below 20): {city_20}\")"
   ]
  }
 ],
 "metadata": {
  "kernelspec": {
   "display_name": "Python 3",
   "language": "python",
   "name": "python3"
  },
  "language_info": {
   "codemirror_mode": {
    "name": "ipython",
    "version": 3
   },
   "file_extension": ".py",
   "mimetype": "text/x-python",
   "name": "python",
   "nbconvert_exporter": "python",
   "pygments_lexer": "ipython3",
   "version": "3.11.8"
  }
 },
 "nbformat": 4,
 "nbformat_minor": 5
}
