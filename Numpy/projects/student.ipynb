{
 "cells": [
  {
   "cell_type": "code",
   "execution_count": 1,
   "id": "f466c2b5",
   "metadata": {},
   "outputs": [],
   "source": [
    "import numpy as np"
   ]
  },
  {
   "cell_type": "markdown",
   "id": "d4e16212",
   "metadata": {},
   "source": [
    "Build a mini system to simulate and analyze, student marks"
   ]
  },
  {
   "cell_type": "code",
   "execution_count": 2,
   "id": "8732e47f",
   "metadata": {},
   "outputs": [
    {
     "name": "stdout",
     "output_type": "stream",
     "text": [
      "Marks (first 5 students):\n",
      " [[79 82 99 44 56]\n",
      " [71 47 93 74 81]\n",
      " [72 60 44 55 82]\n",
      " [99 84 64 54 54]\n",
      " [49 74 67 44 92]]\n"
     ]
    }
   ],
   "source": [
    "#step-1: Generate Random data\n",
    "np.random.seed(0)\n",
    "\n",
    "#50 students, 5 subjects\n",
    "marks = np.random.randint(35, 100, size=(50, 5))\n",
    "print(\"Marks (first 5 students):\\n\", marks[:5])"
   ]
  },
  {
   "cell_type": "code",
   "execution_count": 3,
   "id": "6669aaca",
   "metadata": {},
   "outputs": [],
   "source": [
    "#step 2: calculate stats\n",
    "#1. Mean marks per student\n",
    "student_avg = np.mean(marks, axis=1)\n",
    "\n",
    "#2. Mean marks per subject\n",
    "subject_avg = np.mean(marks, axis=0)\n",
    "\n",
    "#3. student with highest avg\n",
    "top_student = np.argmax(student_avg)\n",
    " \n",
    "#4. pass/fail status\n",
    "pass_status = np.all(marks>= 40, axis=1)\n"
   ]
  },
  {
   "cell_type": "code",
   "execution_count": 4,
   "id": "516f4436",
   "metadata": {},
   "outputs": [
    {
     "name": "stdout",
     "output_type": "stream",
     "text": [
      "Average marks per subject: [66.86 69.18 68.8  59.6  66.04]\n",
      "Top student index: 46\n",
      "number of students who passed all subjects: 27\n"
     ]
    }
   ],
   "source": [
    "#step 3: output\n",
    "print(\"Average marks per subject:\", subject_avg)\n",
    "print(\"Top student index:\", top_student)\n",
    "print(\"number of students who passed all subjects:\", np.sum(pass_status))"
   ]
  }
 ],
 "metadata": {
  "kernelspec": {
   "display_name": "Python 3",
   "language": "python",
   "name": "python3"
  },
  "language_info": {
   "codemirror_mode": {
    "name": "ipython",
    "version": 3
   },
   "file_extension": ".py",
   "mimetype": "text/x-python",
   "name": "python",
   "nbconvert_exporter": "python",
   "pygments_lexer": "ipython3",
   "version": "3.11.8"
  }
 },
 "nbformat": 4,
 "nbformat_minor": 5
}
