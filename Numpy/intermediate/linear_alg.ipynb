{
 "cells": [
  {
   "cell_type": "code",
   "execution_count": null,
   "id": "882604a6",
   "metadata": {},
   "outputs": [],
   "source": [
    "import numpy as np"
   ]
  },
  {
   "cell_type": "markdown",
   "id": "ab3d1d1d",
   "metadata": {},
   "source": [
    "vector = A 1D Array\n",
    "matrix = A 2D Array\n",
    "tensor = An N-Dimensional array"
   ]
  },
  {
   "cell_type": "markdown",
   "id": "dbcada5d",
   "metadata": {},
   "source": [
    "1. Matrix Creation in Numpy"
   ]
  },
  {
   "cell_type": "code",
   "execution_count": null,
   "id": "48b860fa",
   "metadata": {},
   "outputs": [],
   "source": [
    "a = np.array([[1, 2], [3, 4]])\n",
    "b = np.array([[5, 6], [7, 8]])\n",
    "a, b #a, b are 2x2 matrices"
   ]
  },
  {
   "cell_type": "markdown",
   "id": "2303c1e0",
   "metadata": {},
   "source": [
    "2. Matrix Transpose--> swap rows and columns"
   ]
  },
  {
   "cell_type": "code",
   "execution_count": null,
   "id": "ac19f03a",
   "metadata": {},
   "outputs": [],
   "source": [
    "a.T\n",
    "#or\n",
    "np.transpose(a)"
   ]
  },
  {
   "cell_type": "markdown",
   "id": "e3f8d5e5",
   "metadata": {},
   "source": [
    "3. Matrix Multiplication--> each row of A multiply with each column of B"
   ]
  },
  {
   "cell_type": "code",
   "execution_count": null,
   "id": "a724e485",
   "metadata": {},
   "outputs": [],
   "source": [
    "a@b"
   ]
  },
  {
   "cell_type": "markdown",
   "id": "9ffbc034",
   "metadata": {},
   "source": [
    "4. Identity matrix--> np.eye()"
   ]
  },
  {
   "cell_type": "code",
   "execution_count": null,
   "id": "9d423b04",
   "metadata": {},
   "outputs": [],
   "source": [
    "i = np.eye(3)\n",
    "i"
   ]
  },
  {
   "cell_type": "markdown",
   "id": "d05845b5",
   "metadata": {},
   "source": [
    "5. Inverse of a matrix--> np.linalg.inv()"
   ]
  },
  {
   "cell_type": "code",
   "execution_count": null,
   "id": "430cfc61",
   "metadata": {},
   "outputs": [],
   "source": [
    "b = np.array([[5, 6], [7, 8]])\n",
    "inv = np.linalg.inv(b)\n",
    "inv"
   ]
  },
  {
   "cell_type": "markdown",
   "id": "c3473229",
   "metadata": {},
   "source": [
    "Determinant--> np.linalg.det()"
   ]
  },
  {
   "cell_type": "code",
   "execution_count": null,
   "id": "0697682d",
   "metadata": {},
   "outputs": [],
   "source": [
    "a = np.array([[1, 2], [3, 4]])\n",
    "print(np.linalg.det(a))\n",
    "b = np.array([[5, 6], [7, 8]])\n",
    "round = np.round(np.linalg.det(b), 2)\n",
    "round"
   ]
  },
  {
   "cell_type": "markdown",
   "id": "f2e12455",
   "metadata": {},
   "source": [
    "7. Rank of matrix--> np.linalg.matrix_rank()"
   ]
  },
  {
   "cell_type": "code",
   "execution_count": null,
   "id": "662b9b29",
   "metadata": {},
   "outputs": [],
   "source": [
    "np.linalg.matrix_rank(b)"
   ]
  },
  {
   "cell_type": "markdown",
   "id": "a039d3f5",
   "metadata": {},
   "source": [
    "8. solving linear equations--> np.linalg.solve()"
   ]
  },
  {
   "cell_type": "code",
   "execution_count": null,
   "id": "fe118910",
   "metadata": {},
   "outputs": [],
   "source": [
    "x = np.linalg.solve(a, b)\n",
    "x"
   ]
  },
  {
   "cell_type": "markdown",
   "id": "52311882",
   "metadata": {},
   "source": [
    "practice"
   ]
  },
  {
   "cell_type": "code",
   "execution_count": null,
   "id": "c0c468f5",
   "metadata": {},
   "outputs": [
    {
     "name": "stdout",
     "output_type": "stream",
     "text": [
      "[[1 2 3]\n",
      " [4 5 6]]\n",
      "[[1 4]\n",
      " [2 5]\n",
      " [3 6]]\n"
     ]
    }
   ],
   "source": [
    "#1.\n",
    "a = np.arange(1, 7).reshape(2, 3)\n",
    "print(a)\n",
    "print(np.transpose(a))"
   ]
  },
  {
   "cell_type": "code",
   "execution_count": 40,
   "id": "7118aed2",
   "metadata": {},
   "outputs": [
    {
     "data": {
      "text/plain": [
       "array([[19, 22],\n",
       "       [43, 50]])"
      ]
     },
     "execution_count": 40,
     "metadata": {},
     "output_type": "execute_result"
    }
   ],
   "source": [
    "#2.\n",
    "a = np.array([[1, 2], [3, 4]])\n",
    "b = np.array([[5, 6], [7, 8]])\n",
    "a@b"
   ]
  },
  {
   "cell_type": "code",
   "execution_count": null,
   "id": "eeba6931",
   "metadata": {},
   "outputs": [
    {
     "name": "stdout",
     "output_type": "stream",
     "text": [
      "[[1. 2. 3.]\n",
      " [4. 5. 6.]\n",
      " [7. 8. 9.]]\n",
      "[[1 2 3]\n",
      " [4 5 6]\n",
      " [7 8 9]]\n"
     ]
    }
   ],
   "source": [
    "#3.\n",
    "c = np.eye(3)\n",
    "d = np.arange(1, 10).reshape(3,3)\n",
    "print(c@d)\n",
    "print(d)"
   ]
  },
  {
   "cell_type": "code",
   "execution_count": 52,
   "id": "5566d006",
   "metadata": {},
   "outputs": [
    {
     "name": "stdout",
     "output_type": "stream",
     "text": [
      "[[ 0.6 -0.7]\n",
      " [-0.2  0.4]]\n",
      "[[ 1.00000000e+00 -1.11022302e-16]\n",
      " [ 1.11022302e-16  1.00000000e+00]]\n"
     ]
    }
   ],
   "source": [
    "#4.\n",
    "e = np.array([[4, 7], [2, 6]])\n",
    "inv = np.linalg.inv(e)\n",
    "print(inv)\n",
    "identity =  np.dot(e, inv)\n",
    "print(identity)"
   ]
  },
  {
   "cell_type": "code",
   "execution_count": 54,
   "id": "952fad61",
   "metadata": {},
   "outputs": [
    {
     "data": {
      "text/plain": [
       "array([1., 2.])"
      ]
     },
     "execution_count": 54,
     "metadata": {},
     "output_type": "execute_result"
    }
   ],
   "source": [
    "a = np.array([[2, 3], [1, 2]])\n",
    "b = np.array([8, 5])\n",
    "x = np.linalg.solve(a, b)\n",
    "x"
   ]
  },
  {
   "cell_type": "code",
   "execution_count": null,
   "id": "be0c434f",
   "metadata": {},
   "outputs": [
    {
     "name": "stdout",
     "output_type": "stream",
     "text": [
      "1\n",
      "0.0\n"
     ]
    }
   ],
   "source": [
    "d =  np.array([[2, 4], [1, 2]])\n",
    "print(np.linalg.matrix_rank(d))\n",
    "print(np.linalg.det(d))\n"
   ]
  }
 ],
 "metadata": {
  "kernelspec": {
   "display_name": "Python 3",
   "language": "python",
   "name": "python3"
  },
  "language_info": {
   "codemirror_mode": {
    "name": "ipython",
    "version": 3
   },
   "file_extension": ".py",
   "mimetype": "text/x-python",
   "name": "python",
   "nbconvert_exporter": "python",
   "pygments_lexer": "ipython3",
   "version": "3.11.8"
  }
 },
 "nbformat": 4,
 "nbformat_minor": 5
}
