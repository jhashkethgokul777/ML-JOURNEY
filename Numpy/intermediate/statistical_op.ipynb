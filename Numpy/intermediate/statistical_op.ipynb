{
 "cells": [
  {
   "cell_type": "code",
   "execution_count": null,
   "id": "f43154aa",
   "metadata": {},
   "outputs": [],
   "source": [
    "import numpy as np"
   ]
  },
  {
   "cell_type": "markdown",
   "id": "a8043605",
   "metadata": {},
   "source": [
    "1. Mean--> np.mean()"
   ]
  },
  {
   "cell_type": "code",
   "execution_count": null,
   "id": "1698e4d4",
   "metadata": {},
   "outputs": [],
   "source": [
    "a = np.array([10, 20, 30])\n",
    "np.mean(a)"
   ]
  },
  {
   "cell_type": "markdown",
   "id": "914f36a1",
   "metadata": {},
   "source": [
    "2. Median--> np.median()"
   ]
  },
  {
   "cell_type": "code",
   "execution_count": null,
   "id": "9ca8c39d",
   "metadata": {},
   "outputs": [],
   "source": [
    "b =  np.array([10, 20, 30])\n",
    "print(np.median(b))\n",
    "c = np.array([10, 20, 30, 40])\n",
    "np.median(c)\n"
   ]
  },
  {
   "cell_type": "markdown",
   "id": "9c0590d2",
   "metadata": {},
   "source": [
    "3. standard Deviation--> np.std()"
   ]
  },
  {
   "cell_type": "code",
   "execution_count": null,
   "id": "6d002a7a",
   "metadata": {},
   "outputs": [],
   "source": [
    "print(np.std(a))\n",
    "print(np.var(a))"
   ]
  },
  {
   "cell_type": "markdown",
   "id": "fb19070e",
   "metadata": {},
   "source": [
    "4. variance--> np.var()"
   ]
  },
  {
   "cell_type": "code",
   "execution_count": null,
   "id": "a8a2d286",
   "metadata": {},
   "outputs": [],
   "source": [
    "data = np.array([2, 4, 4, 4, 5, 5, 7, 9])\n",
    "variance = np.var(data)\n",
    "variance"
   ]
  },
  {
   "cell_type": "markdown",
   "id": "478d919a",
   "metadata": {},
   "source": [
    "5. min, max, argmin, argmax"
   ]
  },
  {
   "cell_type": "code",
   "execution_count": null,
   "id": "9df0816f",
   "metadata": {},
   "outputs": [],
   "source": [
    "d = np.array([1, 4, 3, 7])\n",
    "print(np.min(d), np.max(d), np.argmin(d), np.argmax(d))"
   ]
  },
  {
   "cell_type": "markdown",
   "id": "182b3735",
   "metadata": {},
   "source": [
    "6. percentiles--> np.percentile()"
   ]
  },
  {
   "cell_type": "code",
   "execution_count": null,
   "id": "d082d3f9",
   "metadata": {},
   "outputs": [],
   "source": [
    "e = np.array([10, 20, 30, 40, 50])\n",
    "print(np.percentile(e, 50), np.percentile(e, 90))"
   ]
  },
  {
   "cell_type": "markdown",
   "id": "e4307b26",
   "metadata": {},
   "source": [
    "7. correlation coefficient--> np.corrcoef()"
   ]
  },
  {
   "cell_type": "code",
   "execution_count": null,
   "id": "2b5d66b8",
   "metadata": {},
   "outputs": [],
   "source": [
    "x = np.array([1, 2, 3])\n",
    "y =  np.array([2, 4, 6])\n",
    "np.corrcoef(x, y)"
   ]
  },
  {
   "cell_type": "markdown",
   "id": "792cfa9d",
   "metadata": {},
   "source": [
    "8. covarience--> np.cov()"
   ]
  },
  {
   "cell_type": "code",
   "execution_count": null,
   "id": "0e76c0a0",
   "metadata": {},
   "outputs": [],
   "source": [
    "np.cov(x, y)"
   ]
  }
 ],
 "metadata": {
  "kernelspec": {
   "display_name": "Python 3",
   "language": "python",
   "name": "python3"
  },
  "language_info": {
   "codemirror_mode": {
    "name": "ipython",
    "version": 3
   },
   "file_extension": ".py",
   "mimetype": "text/x-python",
   "name": "python",
   "nbconvert_exporter": "python",
   "pygments_lexer": "ipython3",
   "version": "3.11.8"
  }
 },
 "nbformat": 4,
 "nbformat_minor": 5
}
