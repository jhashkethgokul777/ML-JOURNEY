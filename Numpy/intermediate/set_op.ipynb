{
 "cells": [
  {
   "cell_type": "code",
   "execution_count": 1,
   "id": "807fe5be",
   "metadata": {},
   "outputs": [],
   "source": [
    "import numpy as np"
   ]
  },
  {
   "cell_type": "markdown",
   "id": "47649a47",
   "metadata": {},
   "source": [
    "1. np.unique()"
   ]
  },
  {
   "cell_type": "code",
   "execution_count": 2,
   "id": "67131313",
   "metadata": {},
   "outputs": [
    {
     "data": {
      "text/plain": [
       "array([1, 2, 3, 4, 5, 6])"
      ]
     },
     "execution_count": 2,
     "metadata": {},
     "output_type": "execute_result"
    }
   ],
   "source": [
    "a = np.array([1, 2, 2, 3, 4, 5, 6, 6])\n",
    "np.unique(a)"
   ]
  },
  {
   "cell_type": "markdown",
   "id": "f3f1fe40",
   "metadata": {},
   "source": [
    "common elements--> np.intersect1d()"
   ]
  },
  {
   "cell_type": "code",
   "execution_count": 3,
   "id": "dd1e5b0a",
   "metadata": {},
   "outputs": [
    {
     "data": {
      "text/plain": [
       "array([3, 4])"
      ]
     },
     "execution_count": 3,
     "metadata": {},
     "output_type": "execute_result"
    }
   ],
   "source": [
    "a = np.array([1, 2, 3, 4])\n",
    "b = np.array([3, 4, 5, 6])\n",
    "np.intersect1d(a, b)"
   ]
  },
  {
   "cell_type": "markdown",
   "id": "9f098f9d",
   "metadata": {},
   "source": [
    "3. np.setdiff1d()"
   ]
  },
  {
   "cell_type": "code",
   "execution_count": 4,
   "id": "4739c2a5",
   "metadata": {},
   "outputs": [
    {
     "data": {
      "text/plain": [
       "array([1, 2])"
      ]
     },
     "execution_count": 4,
     "metadata": {},
     "output_type": "execute_result"
    }
   ],
   "source": [
    "np.setdiff1d(a, b)"
   ]
  },
  {
   "cell_type": "markdown",
   "id": "bb69e8c9",
   "metadata": {},
   "source": [
    "4. Exclusive to a or b"
   ]
  },
  {
   "cell_type": "code",
   "execution_count": 5,
   "id": "30aa6579",
   "metadata": {},
   "outputs": [
    {
     "data": {
      "text/plain": [
       "array([1, 2, 5, 6])"
      ]
     },
     "execution_count": 5,
     "metadata": {},
     "output_type": "execute_result"
    }
   ],
   "source": [
    "np.setxor1d(a, b)"
   ]
  },
  {
   "cell_type": "markdown",
   "id": "21cd85cd",
   "metadata": {},
   "source": [
    "5. All unique elements"
   ]
  },
  {
   "cell_type": "code",
   "execution_count": 6,
   "id": "853cea17",
   "metadata": {},
   "outputs": [
    {
     "data": {
      "text/plain": [
       "array([1, 2, 3, 4, 5, 6])"
      ]
     },
     "execution_count": 6,
     "metadata": {},
     "output_type": "execute_result"
    }
   ],
   "source": [
    "np.union1d(a, b)"
   ]
  },
  {
   "cell_type": "markdown",
   "id": "f9a730c7",
   "metadata": {},
   "source": [
    "6. Element Wise Membership test"
   ]
  },
  {
   "cell_type": "code",
   "execution_count": 9,
   "id": "89f1e2f3",
   "metadata": {},
   "outputs": [
    {
     "name": "stdout",
     "output_type": "stream",
     "text": [
      "[False False  True  True]\n"
     ]
    },
    {
     "data": {
      "text/plain": [
       "array([3, 4])"
      ]
     },
     "execution_count": 9,
     "metadata": {},
     "output_type": "execute_result"
    }
   ],
   "source": [
    "print(np.isin(a, b)) #np.in1d\n",
    "a[np.isin(a, b)]"
   ]
  }
 ],
 "metadata": {
  "kernelspec": {
   "display_name": "Python 3",
   "language": "python",
   "name": "python3"
  },
  "language_info": {
   "codemirror_mode": {
    "name": "ipython",
    "version": 3
   },
   "file_extension": ".py",
   "mimetype": "text/x-python",
   "name": "python",
   "nbconvert_exporter": "python",
   "pygments_lexer": "ipython3",
   "version": "3.11.8"
  }
 },
 "nbformat": 4,
 "nbformat_minor": 5
}
